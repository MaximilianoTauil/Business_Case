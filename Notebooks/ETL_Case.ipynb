{
 "cells": [
  {
   "cell_type": "markdown",
   "metadata": {},
   "source": [
    "# Proceso de Extracción, Transformación y Carga de datos (ETL) 👨🏽‍💻 👩🏽‍💻"
   ]
  },
  {
   "cell_type": "markdown",
   "metadata": {},
   "source": [
    "En este notebook, se cargará los datasets y se revisarán los tipos de cada columna para determinar el correcto. En el notebook también se verificará la presencia de registros duplicados y si algún registro en una columna tiene valores vacíos o nulos. \n",
    "\n",
    "Además de estas transformaciones, se importarán las bibliotecas que se utilizarán a lo largo del notebook para manipular los datos, incluido nuestro módulo personalizado llamado 'Funciones'. Finalmente, los datos procesados se exportarán y estarán listos para el análisis."
   ]
  },
  {
   "cell_type": "markdown",
   "metadata": {},
   "source": [
    "## Importamos las librerías necesarias 📚"
   ]
  },
  {
   "cell_type": "code",
   "execution_count": 5,
   "metadata": {},
   "outputs": [],
   "source": [
    "import pandas as pd\n",
    "import Funciones as F\n",
    "import warnings\n",
    "warnings.filterwarnings('ignore')\n",
    "import sys\n",
    "sys.path.insert(0, '../')"
   ]
  },
  {
   "cell_type": "markdown",
   "metadata": {},
   "source": [
    "## Lectura de archivos 📂🔄"
   ]
  },
  {
   "cell_type": "code",
   "execution_count": 7,
   "metadata": {},
   "outputs": [
    {
     "data": {
      "text/html": [
       "<div>\n",
       "<style scoped>\n",
       "    .dataframe tbody tr th:only-of-type {\n",
       "        vertical-align: middle;\n",
       "    }\n",
       "\n",
       "    .dataframe tbody tr th {\n",
       "        vertical-align: top;\n",
       "    }\n",
       "\n",
       "    .dataframe thead th {\n",
       "        text-align: right;\n",
       "    }\n",
       "</style>\n",
       "<table border=\"1\" class=\"dataframe\">\n",
       "  <thead>\n",
       "    <tr style=\"text-align: right;\">\n",
       "      <th></th>\n",
       "      <th>customer_id</th>\n",
       "      <th>customer_unique_id</th>\n",
       "      <th>customer_zip_code_prefix</th>\n",
       "      <th>customer_city</th>\n",
       "      <th>customer_state</th>\n",
       "    </tr>\n",
       "  </thead>\n",
       "  <tbody>\n",
       "    <tr>\n",
       "      <th>0</th>\n",
       "      <td>06b8999e2fba1a1fbc88172c00ba8bc7</td>\n",
       "      <td>861eff4711a542e4b93843c6dd7febb0</td>\n",
       "      <td>14409</td>\n",
       "      <td>franca</td>\n",
       "      <td>SP</td>\n",
       "    </tr>\n",
       "    <tr>\n",
       "      <th>1</th>\n",
       "      <td>18955e83d337fd6b2def6b18a428ac77</td>\n",
       "      <td>290c77bc529b7ac935b93aa66c333dc3</td>\n",
       "      <td>9790</td>\n",
       "      <td>sao bernardo do campo</td>\n",
       "      <td>SP</td>\n",
       "    </tr>\n",
       "    <tr>\n",
       "      <th>2</th>\n",
       "      <td>4e7b3e00288586ebd08712fdd0374a03</td>\n",
       "      <td>060e732b5b29e8181a18229c7b0b2b5e</td>\n",
       "      <td>1151</td>\n",
       "      <td>sao paulo</td>\n",
       "      <td>SP</td>\n",
       "    </tr>\n",
       "    <tr>\n",
       "      <th>3</th>\n",
       "      <td>b2b6027bc5c5109e529d4dc6358b12c3</td>\n",
       "      <td>259dac757896d24d7702b9acbbff3f3c</td>\n",
       "      <td>8775</td>\n",
       "      <td>mogi das cruzes</td>\n",
       "      <td>SP</td>\n",
       "    </tr>\n",
       "    <tr>\n",
       "      <th>4</th>\n",
       "      <td>4f2d8ab171c80ec8364f7c12e35b23ad</td>\n",
       "      <td>345ecd01c38d18a9036ed96c73b8d066</td>\n",
       "      <td>13056</td>\n",
       "      <td>campinas</td>\n",
       "      <td>SP</td>\n",
       "    </tr>\n",
       "    <tr>\n",
       "      <th>...</th>\n",
       "      <td>...</td>\n",
       "      <td>...</td>\n",
       "      <td>...</td>\n",
       "      <td>...</td>\n",
       "      <td>...</td>\n",
       "    </tr>\n",
       "    <tr>\n",
       "      <th>99436</th>\n",
       "      <td>17ddf5dd5d51696bb3d7c6291687be6f</td>\n",
       "      <td>1a29b476fee25c95fbafc67c5ac95cf8</td>\n",
       "      <td>3937</td>\n",
       "      <td>sao paulo</td>\n",
       "      <td>SP</td>\n",
       "    </tr>\n",
       "    <tr>\n",
       "      <th>99437</th>\n",
       "      <td>e7b71a9017aa05c9a7fd292d714858e8</td>\n",
       "      <td>d52a67c98be1cf6a5c84435bd38d095d</td>\n",
       "      <td>6764</td>\n",
       "      <td>taboao da serra</td>\n",
       "      <td>SP</td>\n",
       "    </tr>\n",
       "    <tr>\n",
       "      <th>99438</th>\n",
       "      <td>5e28dfe12db7fb50a4b2f691faecea5e</td>\n",
       "      <td>e9f50caf99f032f0bf3c55141f019d99</td>\n",
       "      <td>60115</td>\n",
       "      <td>fortaleza</td>\n",
       "      <td>CE</td>\n",
       "    </tr>\n",
       "    <tr>\n",
       "      <th>99439</th>\n",
       "      <td>56b18e2166679b8a959d72dd06da27f9</td>\n",
       "      <td>73c2643a0a458b49f58cea58833b192e</td>\n",
       "      <td>92120</td>\n",
       "      <td>canoas</td>\n",
       "      <td>RS</td>\n",
       "    </tr>\n",
       "    <tr>\n",
       "      <th>99440</th>\n",
       "      <td>274fa6071e5e17fe303b9748641082c8</td>\n",
       "      <td>84732c5050c01db9b23e19ba39899398</td>\n",
       "      <td>6703</td>\n",
       "      <td>cotia</td>\n",
       "      <td>SP</td>\n",
       "    </tr>\n",
       "  </tbody>\n",
       "</table>\n",
       "<p>99441 rows × 5 columns</p>\n",
       "</div>"
      ],
      "text/plain": [
       "                            customer_id                customer_unique_id  \\\n",
       "0      06b8999e2fba1a1fbc88172c00ba8bc7  861eff4711a542e4b93843c6dd7febb0   \n",
       "1      18955e83d337fd6b2def6b18a428ac77  290c77bc529b7ac935b93aa66c333dc3   \n",
       "2      4e7b3e00288586ebd08712fdd0374a03  060e732b5b29e8181a18229c7b0b2b5e   \n",
       "3      b2b6027bc5c5109e529d4dc6358b12c3  259dac757896d24d7702b9acbbff3f3c   \n",
       "4      4f2d8ab171c80ec8364f7c12e35b23ad  345ecd01c38d18a9036ed96c73b8d066   \n",
       "...                                 ...                               ...   \n",
       "99436  17ddf5dd5d51696bb3d7c6291687be6f  1a29b476fee25c95fbafc67c5ac95cf8   \n",
       "99437  e7b71a9017aa05c9a7fd292d714858e8  d52a67c98be1cf6a5c84435bd38d095d   \n",
       "99438  5e28dfe12db7fb50a4b2f691faecea5e  e9f50caf99f032f0bf3c55141f019d99   \n",
       "99439  56b18e2166679b8a959d72dd06da27f9  73c2643a0a458b49f58cea58833b192e   \n",
       "99440  274fa6071e5e17fe303b9748641082c8  84732c5050c01db9b23e19ba39899398   \n",
       "\n",
       "       customer_zip_code_prefix          customer_city customer_state  \n",
       "0                         14409                 franca             SP  \n",
       "1                          9790  sao bernardo do campo             SP  \n",
       "2                          1151              sao paulo             SP  \n",
       "3                          8775        mogi das cruzes             SP  \n",
       "4                         13056               campinas             SP  \n",
       "...                         ...                    ...            ...  \n",
       "99436                      3937              sao paulo             SP  \n",
       "99437                      6764        taboao da serra             SP  \n",
       "99438                     60115              fortaleza             CE  \n",
       "99439                     92120                 canoas             RS  \n",
       "99440                      6703                  cotia             SP  \n",
       "\n",
       "[99441 rows x 5 columns]"
      ]
     },
     "execution_count": 7,
     "metadata": {},
     "output_type": "execute_result"
    }
   ],
   "source": [
    "customers = pd.read_excel('../Datasets/bc_customers_dataset.xlsx')\n",
    "customers"
   ]
  },
  {
   "cell_type": "code",
   "execution_count": 8,
   "metadata": {},
   "outputs": [
    {
     "data": {
      "text/html": [
       "<div>\n",
       "<style scoped>\n",
       "    .dataframe tbody tr th:only-of-type {\n",
       "        vertical-align: middle;\n",
       "    }\n",
       "\n",
       "    .dataframe tbody tr th {\n",
       "        vertical-align: top;\n",
       "    }\n",
       "\n",
       "    .dataframe thead th {\n",
       "        text-align: right;\n",
       "    }\n",
       "</style>\n",
       "<table border=\"1\" class=\"dataframe\">\n",
       "  <thead>\n",
       "    <tr style=\"text-align: right;\">\n",
       "      <th></th>\n",
       "      <th>order_id</th>\n",
       "      <th>customer_id</th>\n",
       "      <th>order_status</th>\n",
       "      <th>order_approved_at</th>\n",
       "      <th>order_received_by_local_operator_date</th>\n",
       "      <th>order_delivered_to_customer_date</th>\n",
       "      <th>order_delivery_promise_date</th>\n",
       "    </tr>\n",
       "  </thead>\n",
       "  <tbody>\n",
       "    <tr>\n",
       "      <th>0</th>\n",
       "      <td>e481f51cbdc54678b7cc49136f2d6af7</td>\n",
       "      <td>9ef432eb6251297304e76186b10a928d</td>\n",
       "      <td>delivered</td>\n",
       "      <td>2017-10-02 11:07:15</td>\n",
       "      <td>2017-10-04 19:55:00</td>\n",
       "      <td>2017-10-10 21:25:13</td>\n",
       "      <td>2017-10-18</td>\n",
       "    </tr>\n",
       "    <tr>\n",
       "      <th>1</th>\n",
       "      <td>53cdb2fc8bc7dce0b6741e2150273451</td>\n",
       "      <td>b0830fb4747a6c6d20dea0b8c802d7ef</td>\n",
       "      <td>delivered</td>\n",
       "      <td>2018-07-26 03:24:27</td>\n",
       "      <td>2018-07-26 14:31:00</td>\n",
       "      <td>2018-08-07 15:27:45</td>\n",
       "      <td>2018-08-13</td>\n",
       "    </tr>\n",
       "    <tr>\n",
       "      <th>2</th>\n",
       "      <td>47770eb9100c2d0c44946d9cf07ec65d</td>\n",
       "      <td>41ce2a54c0b03bf3443c3d931a367089</td>\n",
       "      <td>delivered</td>\n",
       "      <td>2018-08-08 08:55:23</td>\n",
       "      <td>2018-08-08 13:50:00</td>\n",
       "      <td>2018-08-17 18:06:29</td>\n",
       "      <td>2018-09-04</td>\n",
       "    </tr>\n",
       "    <tr>\n",
       "      <th>3</th>\n",
       "      <td>949d5b44dbf5de918fe9c16f97b45f8a</td>\n",
       "      <td>f88197465ea7920adcdbec7375364d82</td>\n",
       "      <td>delivered</td>\n",
       "      <td>2017-11-18 19:45:59</td>\n",
       "      <td>2017-11-22 13:39:59</td>\n",
       "      <td>2017-12-02 00:28:42</td>\n",
       "      <td>2017-12-15</td>\n",
       "    </tr>\n",
       "    <tr>\n",
       "      <th>4</th>\n",
       "      <td>ad21c59c0840e6cb83a9ceb5573f8159</td>\n",
       "      <td>8ab97904e6daea8866dbdbc4fb7aad2c</td>\n",
       "      <td>delivered</td>\n",
       "      <td>2018-02-13 22:20:29</td>\n",
       "      <td>2018-02-14 19:46:34</td>\n",
       "      <td>2018-02-16 18:17:02</td>\n",
       "      <td>2018-02-26</td>\n",
       "    </tr>\n",
       "    <tr>\n",
       "      <th>...</th>\n",
       "      <td>...</td>\n",
       "      <td>...</td>\n",
       "      <td>...</td>\n",
       "      <td>...</td>\n",
       "      <td>...</td>\n",
       "      <td>...</td>\n",
       "      <td>...</td>\n",
       "    </tr>\n",
       "    <tr>\n",
       "      <th>99276</th>\n",
       "      <td>9c5dedf39a927c1b2549525ed64a053c</td>\n",
       "      <td>39bd1228ee8140590ac3aca26f2dfe00</td>\n",
       "      <td>delivered</td>\n",
       "      <td>2017-03-09 09:54:05</td>\n",
       "      <td>2017-03-10 11:18:03</td>\n",
       "      <td>2017-03-17 15:08:01</td>\n",
       "      <td>2017-03-28</td>\n",
       "    </tr>\n",
       "    <tr>\n",
       "      <th>99277</th>\n",
       "      <td>63943bddc261676b46f01ca7ac2f7bd8</td>\n",
       "      <td>1fca14ff2861355f6e5f14306ff977a7</td>\n",
       "      <td>delivered</td>\n",
       "      <td>2018-02-06 13:10:37</td>\n",
       "      <td>2018-02-07 23:22:42</td>\n",
       "      <td>2018-02-28 17:37:56</td>\n",
       "      <td>2018-03-02</td>\n",
       "    </tr>\n",
       "    <tr>\n",
       "      <th>99278</th>\n",
       "      <td>83c1379a015df1e13d02aae0204711ab</td>\n",
       "      <td>1aa71eb042121263aafbe80c1b562c9c</td>\n",
       "      <td>delivered</td>\n",
       "      <td>2017-08-27 15:04:16</td>\n",
       "      <td>2017-08-28 20:52:26</td>\n",
       "      <td>2017-09-21 11:24:17</td>\n",
       "      <td>2017-09-27</td>\n",
       "    </tr>\n",
       "    <tr>\n",
       "      <th>99279</th>\n",
       "      <td>11c177c8e97725db2631073c19f07b62</td>\n",
       "      <td>b331b74b18dc79bcdf6532d51e1637c1</td>\n",
       "      <td>delivered</td>\n",
       "      <td>2018-01-08 21:36:21</td>\n",
       "      <td>2018-01-12 15:35:03</td>\n",
       "      <td>2018-01-25 23:32:54</td>\n",
       "      <td>2018-02-15</td>\n",
       "    </tr>\n",
       "    <tr>\n",
       "      <th>99280</th>\n",
       "      <td>66dea50a8b16d9b4dee7af250b4be1a5</td>\n",
       "      <td>edb027a75a1449115f6b43211ae02a24</td>\n",
       "      <td>delivered</td>\n",
       "      <td>2018-03-09 11:20:28</td>\n",
       "      <td>2018-03-09 22:11:59</td>\n",
       "      <td>2018-03-16 13:08:30</td>\n",
       "      <td>2018-04-03</td>\n",
       "    </tr>\n",
       "  </tbody>\n",
       "</table>\n",
       "<p>99281 rows × 7 columns</p>\n",
       "</div>"
      ],
      "text/plain": [
       "                               order_id                       customer_id  \\\n",
       "0      e481f51cbdc54678b7cc49136f2d6af7  9ef432eb6251297304e76186b10a928d   \n",
       "1      53cdb2fc8bc7dce0b6741e2150273451  b0830fb4747a6c6d20dea0b8c802d7ef   \n",
       "2      47770eb9100c2d0c44946d9cf07ec65d  41ce2a54c0b03bf3443c3d931a367089   \n",
       "3      949d5b44dbf5de918fe9c16f97b45f8a  f88197465ea7920adcdbec7375364d82   \n",
       "4      ad21c59c0840e6cb83a9ceb5573f8159  8ab97904e6daea8866dbdbc4fb7aad2c   \n",
       "...                                 ...                               ...   \n",
       "99276  9c5dedf39a927c1b2549525ed64a053c  39bd1228ee8140590ac3aca26f2dfe00   \n",
       "99277  63943bddc261676b46f01ca7ac2f7bd8  1fca14ff2861355f6e5f14306ff977a7   \n",
       "99278  83c1379a015df1e13d02aae0204711ab  1aa71eb042121263aafbe80c1b562c9c   \n",
       "99279  11c177c8e97725db2631073c19f07b62  b331b74b18dc79bcdf6532d51e1637c1   \n",
       "99280  66dea50a8b16d9b4dee7af250b4be1a5  edb027a75a1449115f6b43211ae02a24   \n",
       "\n",
       "      order_status   order_approved_at order_received_by_local_operator_date  \\\n",
       "0        delivered 2017-10-02 11:07:15                   2017-10-04 19:55:00   \n",
       "1        delivered 2018-07-26 03:24:27                   2018-07-26 14:31:00   \n",
       "2        delivered 2018-08-08 08:55:23                   2018-08-08 13:50:00   \n",
       "3        delivered 2017-11-18 19:45:59                   2017-11-22 13:39:59   \n",
       "4        delivered 2018-02-13 22:20:29                   2018-02-14 19:46:34   \n",
       "...            ...                 ...                                   ...   \n",
       "99276    delivered 2017-03-09 09:54:05                   2017-03-10 11:18:03   \n",
       "99277    delivered 2018-02-06 13:10:37                   2018-02-07 23:22:42   \n",
       "99278    delivered 2017-08-27 15:04:16                   2017-08-28 20:52:26   \n",
       "99279    delivered 2018-01-08 21:36:21                   2018-01-12 15:35:03   \n",
       "99280    delivered 2018-03-09 11:20:28                   2018-03-09 22:11:59   \n",
       "\n",
       "      order_delivered_to_customer_date order_delivery_promise_date  \n",
       "0                  2017-10-10 21:25:13                  2017-10-18  \n",
       "1                  2018-08-07 15:27:45                  2018-08-13  \n",
       "2                  2018-08-17 18:06:29                  2018-09-04  \n",
       "3                  2017-12-02 00:28:42                  2017-12-15  \n",
       "4                  2018-02-16 18:17:02                  2018-02-26  \n",
       "...                                ...                         ...  \n",
       "99276              2017-03-17 15:08:01                  2017-03-28  \n",
       "99277              2018-02-28 17:37:56                  2018-03-02  \n",
       "99278              2017-09-21 11:24:17                  2017-09-27  \n",
       "99279              2018-01-25 23:32:54                  2018-02-15  \n",
       "99280              2018-03-16 13:08:30                  2018-04-03  \n",
       "\n",
       "[99281 rows x 7 columns]"
      ]
     },
     "execution_count": 8,
     "metadata": {},
     "output_type": "execute_result"
    }
   ],
   "source": [
    "orders = pd.read_excel('../Datasets/bc_orders_dataset.xlsx')\n",
    "orders"
   ]
  },
  {
   "cell_type": "markdown",
   "metadata": {},
   "source": [
    "----"
   ]
  },
  {
   "cell_type": "markdown",
   "metadata": {},
   "source": [
    "## Transformación de datos 🕵🏼‍♂️"
   ]
  },
  {
   "cell_type": "markdown",
   "metadata": {},
   "source": [
    "### **Dataset Clientes**"
   ]
  },
  {
   "cell_type": "markdown",
   "metadata": {},
   "source": [
    "Utilizaremos una función de nuestro modelo de 'Funciones' para revisar los tipos de datos de cada columna y detectar los valores nulos en ambos datasets."
   ]
  },
  {
   "cell_type": "code",
   "execution_count": 9,
   "metadata": {},
   "outputs": [
    {
     "data": {
      "text/html": [
       "<div>\n",
       "<style scoped>\n",
       "    .dataframe tbody tr th:only-of-type {\n",
       "        vertical-align: middle;\n",
       "    }\n",
       "\n",
       "    .dataframe tbody tr th {\n",
       "        vertical-align: top;\n",
       "    }\n",
       "\n",
       "    .dataframe thead th {\n",
       "        text-align: right;\n",
       "    }\n",
       "</style>\n",
       "<table border=\"1\" class=\"dataframe\">\n",
       "  <thead>\n",
       "    <tr style=\"text-align: right;\">\n",
       "      <th></th>\n",
       "      <th>Nombre</th>\n",
       "      <th>Tipos de Datos Únicos</th>\n",
       "      <th>% de Valores No Nulos</th>\n",
       "      <th>% de Valores Nulos</th>\n",
       "      <th>Cantidad de Valores Nulos</th>\n",
       "    </tr>\n",
       "  </thead>\n",
       "  <tbody>\n",
       "    <tr>\n",
       "      <th>0</th>\n",
       "      <td>customer_id</td>\n",
       "      <td>[&lt;class 'str'&gt;]</td>\n",
       "      <td>100.0</td>\n",
       "      <td>0.0</td>\n",
       "      <td>0</td>\n",
       "    </tr>\n",
       "    <tr>\n",
       "      <th>1</th>\n",
       "      <td>customer_unique_id</td>\n",
       "      <td>[&lt;class 'str'&gt;]</td>\n",
       "      <td>100.0</td>\n",
       "      <td>0.0</td>\n",
       "      <td>0</td>\n",
       "    </tr>\n",
       "    <tr>\n",
       "      <th>2</th>\n",
       "      <td>customer_zip_code_prefix</td>\n",
       "      <td>[&lt;class 'int'&gt;]</td>\n",
       "      <td>100.0</td>\n",
       "      <td>0.0</td>\n",
       "      <td>0</td>\n",
       "    </tr>\n",
       "    <tr>\n",
       "      <th>3</th>\n",
       "      <td>customer_city</td>\n",
       "      <td>[&lt;class 'str'&gt;]</td>\n",
       "      <td>100.0</td>\n",
       "      <td>0.0</td>\n",
       "      <td>0</td>\n",
       "    </tr>\n",
       "    <tr>\n",
       "      <th>4</th>\n",
       "      <td>customer_state</td>\n",
       "      <td>[&lt;class 'str'&gt;]</td>\n",
       "      <td>100.0</td>\n",
       "      <td>0.0</td>\n",
       "      <td>0</td>\n",
       "    </tr>\n",
       "  </tbody>\n",
       "</table>\n",
       "</div>"
      ],
      "text/plain": [
       "                     Nombre Tipos de Datos Únicos  % de Valores No Nulos  \\\n",
       "0               customer_id       [<class 'str'>]                  100.0   \n",
       "1        customer_unique_id       [<class 'str'>]                  100.0   \n",
       "2  customer_zip_code_prefix       [<class 'int'>]                  100.0   \n",
       "3             customer_city       [<class 'str'>]                  100.0   \n",
       "4            customer_state       [<class 'str'>]                  100.0   \n",
       "\n",
       "   % de Valores Nulos  Cantidad de Valores Nulos  \n",
       "0                 0.0                          0  \n",
       "1                 0.0                          0  \n",
       "2                 0.0                          0  \n",
       "3                 0.0                          0  \n",
       "4                 0.0                          0  "
      ]
     },
     "execution_count": 9,
     "metadata": {},
     "output_type": "execute_result"
    }
   ],
   "source": [
    "F.analizar_datos(customers)"
   ]
  },
  {
   "cell_type": "code",
   "execution_count": 10,
   "metadata": {},
   "outputs": [
    {
     "data": {
      "text/html": [
       "<div>\n",
       "<style scoped>\n",
       "    .dataframe tbody tr th:only-of-type {\n",
       "        vertical-align: middle;\n",
       "    }\n",
       "\n",
       "    .dataframe tbody tr th {\n",
       "        vertical-align: top;\n",
       "    }\n",
       "\n",
       "    .dataframe thead th {\n",
       "        text-align: right;\n",
       "    }\n",
       "</style>\n",
       "<table border=\"1\" class=\"dataframe\">\n",
       "  <thead>\n",
       "    <tr style=\"text-align: right;\">\n",
       "      <th></th>\n",
       "      <th>Nombre</th>\n",
       "      <th>Tipos de Datos Únicos</th>\n",
       "      <th>% de Valores No Nulos</th>\n",
       "      <th>% de Valores Nulos</th>\n",
       "      <th>Cantidad de Valores Nulos</th>\n",
       "    </tr>\n",
       "  </thead>\n",
       "  <tbody>\n",
       "    <tr>\n",
       "      <th>0</th>\n",
       "      <td>order_id</td>\n",
       "      <td>[&lt;class 'str'&gt;]</td>\n",
       "      <td>100.00</td>\n",
       "      <td>0.00</td>\n",
       "      <td>0</td>\n",
       "    </tr>\n",
       "    <tr>\n",
       "      <th>1</th>\n",
       "      <td>customer_id</td>\n",
       "      <td>[&lt;class 'str'&gt;]</td>\n",
       "      <td>100.00</td>\n",
       "      <td>0.00</td>\n",
       "      <td>0</td>\n",
       "    </tr>\n",
       "    <tr>\n",
       "      <th>2</th>\n",
       "      <td>order_status</td>\n",
       "      <td>[&lt;class 'str'&gt;]</td>\n",
       "      <td>100.00</td>\n",
       "      <td>0.00</td>\n",
       "      <td>0</td>\n",
       "    </tr>\n",
       "    <tr>\n",
       "      <th>3</th>\n",
       "      <td>order_approved_at</td>\n",
       "      <td>[&lt;class 'pandas._libs.tslibs.timestamps.Timest...</td>\n",
       "      <td>100.00</td>\n",
       "      <td>0.00</td>\n",
       "      <td>0</td>\n",
       "    </tr>\n",
       "    <tr>\n",
       "      <th>4</th>\n",
       "      <td>order_received_by_local_operator_date</td>\n",
       "      <td>[&lt;class 'pandas._libs.tslibs.timestamps.Timest...</td>\n",
       "      <td>98.35</td>\n",
       "      <td>1.65</td>\n",
       "      <td>1637</td>\n",
       "    </tr>\n",
       "    <tr>\n",
       "      <th>5</th>\n",
       "      <td>order_delivered_to_customer_date</td>\n",
       "      <td>[&lt;class 'pandas._libs.tslibs.timestamps.Timest...</td>\n",
       "      <td>97.16</td>\n",
       "      <td>2.84</td>\n",
       "      <td>2819</td>\n",
       "    </tr>\n",
       "    <tr>\n",
       "      <th>6</th>\n",
       "      <td>order_delivery_promise_date</td>\n",
       "      <td>[&lt;class 'pandas._libs.tslibs.timestamps.Timest...</td>\n",
       "      <td>100.00</td>\n",
       "      <td>0.00</td>\n",
       "      <td>0</td>\n",
       "    </tr>\n",
       "  </tbody>\n",
       "</table>\n",
       "</div>"
      ],
      "text/plain": [
       "                                  Nombre  \\\n",
       "0                               order_id   \n",
       "1                            customer_id   \n",
       "2                           order_status   \n",
       "3                      order_approved_at   \n",
       "4  order_received_by_local_operator_date   \n",
       "5       order_delivered_to_customer_date   \n",
       "6            order_delivery_promise_date   \n",
       "\n",
       "                               Tipos de Datos Únicos  % de Valores No Nulos  \\\n",
       "0                                    [<class 'str'>]                 100.00   \n",
       "1                                    [<class 'str'>]                 100.00   \n",
       "2                                    [<class 'str'>]                 100.00   \n",
       "3  [<class 'pandas._libs.tslibs.timestamps.Timest...                 100.00   \n",
       "4  [<class 'pandas._libs.tslibs.timestamps.Timest...                  98.35   \n",
       "5  [<class 'pandas._libs.tslibs.timestamps.Timest...                  97.16   \n",
       "6  [<class 'pandas._libs.tslibs.timestamps.Timest...                 100.00   \n",
       "\n",
       "   % de Valores Nulos  Cantidad de Valores Nulos  \n",
       "0                0.00                          0  \n",
       "1                0.00                          0  \n",
       "2                0.00                          0  \n",
       "3                0.00                          0  \n",
       "4                1.65                       1637  \n",
       "5                2.84                       2819  \n",
       "6                0.00                          0  "
      ]
     },
     "execution_count": 10,
     "metadata": {},
     "output_type": "execute_result"
    }
   ],
   "source": [
    "F.analizar_datos(orders)"
   ]
  },
  {
   "cell_type": "markdown",
   "metadata": {},
   "source": [
    "### ``Customer_id``"
   ]
  },
  {
   "cell_type": "markdown",
   "metadata": {},
   "source": [
    "No se observan duplicados ni valores nulos en esta columna."
   ]
  },
  {
   "cell_type": "code",
   "execution_count": 11,
   "metadata": {},
   "outputs": [
    {
     "data": {
      "text/plain": [
       "customer_id\n",
       "False    99441\n",
       "Name: count, dtype: int64"
      ]
     },
     "execution_count": 11,
     "metadata": {},
     "output_type": "execute_result"
    }
   ],
   "source": [
    "customers['customer_id'].duplicated().value_counts()"
   ]
  },
  {
   "cell_type": "markdown",
   "metadata": {},
   "source": [
    "### ``Customer_unique_id``"
   ]
  },
  {
   "cell_type": "markdown",
   "metadata": {},
   "source": [
    "Se observan 3345 valores duplicados en esta columna. Revisaremos más a fondo para verificar estos datos."
   ]
  },
  {
   "cell_type": "code",
   "execution_count": 12,
   "metadata": {},
   "outputs": [
    {
     "data": {
      "text/plain": [
       "customer_unique_id\n",
       "False    96096\n",
       "True      3345\n",
       "Name: count, dtype: int64"
      ]
     },
     "execution_count": 12,
     "metadata": {},
     "output_type": "execute_result"
    }
   ],
   "source": [
    "customers['customer_unique_id'].duplicated().value_counts()"
   ]
  },
  {
   "cell_type": "markdown",
   "metadata": {},
   "source": [
    "Calculamos cuánto representan estos duplicados del total para evaluar si se pueden eliminar o no del conjunto de datos."
   ]
  },
  {
   "cell_type": "code",
   "execution_count": 13,
   "metadata": {},
   "outputs": [
    {
     "name": "stdout",
     "output_type": "stream",
     "text": [
      "El porcentaje que representa de duplicados en la columna customer_unique_id es: 3.36 del total de registros\n"
     ]
    }
   ],
   "source": [
    "Porcentaje_unique = (3345*100/len(customers))\n",
    "print(F'El porcentaje que representa de duplicados en la columna customer_unique_id es: {round(Porcentaje_unique,2)} del total de registros')"
   ]
  },
  {
   "cell_type": "markdown",
   "metadata": {},
   "source": [
    "Se verifica que los registros duplicados realmente tengan los demás valores duplicados, lo cual se confirma revisando el DataFrame a continuación."
   ]
  },
  {
   "cell_type": "code",
   "execution_count": 14,
   "metadata": {},
   "outputs": [
    {
     "data": {
      "text/html": [
       "<div>\n",
       "<style scoped>\n",
       "    .dataframe tbody tr th:only-of-type {\n",
       "        vertical-align: middle;\n",
       "    }\n",
       "\n",
       "    .dataframe tbody tr th {\n",
       "        vertical-align: top;\n",
       "    }\n",
       "\n",
       "    .dataframe thead th {\n",
       "        text-align: right;\n",
       "    }\n",
       "</style>\n",
       "<table border=\"1\" class=\"dataframe\">\n",
       "  <thead>\n",
       "    <tr style=\"text-align: right;\">\n",
       "      <th></th>\n",
       "      <th>customer_id</th>\n",
       "      <th>customer_unique_id</th>\n",
       "      <th>customer_zip_code_prefix</th>\n",
       "      <th>customer_city</th>\n",
       "      <th>customer_state</th>\n",
       "    </tr>\n",
       "  </thead>\n",
       "  <tbody>\n",
       "    <tr>\n",
       "      <th>35608</th>\n",
       "      <td>24b0e2bd287e47d54d193e7bbb51103f</td>\n",
       "      <td>00172711b30d52eea8b313a7f2cced02</td>\n",
       "      <td>45200</td>\n",
       "      <td>jequie</td>\n",
       "      <td>BA</td>\n",
       "    </tr>\n",
       "    <tr>\n",
       "      <th>19299</th>\n",
       "      <td>1afe8a9c67eec3516c09a8bdcc539090</td>\n",
       "      <td>00172711b30d52eea8b313a7f2cced02</td>\n",
       "      <td>45200</td>\n",
       "      <td>jequie</td>\n",
       "      <td>BA</td>\n",
       "    </tr>\n",
       "    <tr>\n",
       "      <th>20023</th>\n",
       "      <td>1b4a75b3478138e99902678254b260f4</td>\n",
       "      <td>004288347e5e88a27ded2bb23747066c</td>\n",
       "      <td>26220</td>\n",
       "      <td>nova iguacu</td>\n",
       "      <td>RJ</td>\n",
       "    </tr>\n",
       "    <tr>\n",
       "      <th>22066</th>\n",
       "      <td>f6efe5d5c7b85e12355f9d5c3db46da2</td>\n",
       "      <td>004288347e5e88a27ded2bb23747066c</td>\n",
       "      <td>26220</td>\n",
       "      <td>nova iguacu</td>\n",
       "      <td>RJ</td>\n",
       "    </tr>\n",
       "    <tr>\n",
       "      <th>72451</th>\n",
       "      <td>49cf243e0d353cd418ca77868e24a670</td>\n",
       "      <td>004b45ec5c64187465168251cd1c9c2f</td>\n",
       "      <td>57055</td>\n",
       "      <td>maceio</td>\n",
       "      <td>AL</td>\n",
       "    </tr>\n",
       "    <tr>\n",
       "      <th>...</th>\n",
       "      <td>...</td>\n",
       "      <td>...</td>\n",
       "      <td>...</td>\n",
       "      <td>...</td>\n",
       "      <td>...</td>\n",
       "    </tr>\n",
       "    <tr>\n",
       "      <th>75057</th>\n",
       "      <td>1ae563fdfa500d150be6578066d83998</td>\n",
       "      <td>ff922bdd6bafcdf99cb90d7f39cea5b3</td>\n",
       "      <td>17340</td>\n",
       "      <td>barra bonita</td>\n",
       "      <td>SP</td>\n",
       "    </tr>\n",
       "    <tr>\n",
       "      <th>27992</th>\n",
       "      <td>bec0bf00ac5bee64ce8ef5283051a70c</td>\n",
       "      <td>ff922bdd6bafcdf99cb90d7f39cea5b3</td>\n",
       "      <td>17340</td>\n",
       "      <td>barra bonita</td>\n",
       "      <td>SP</td>\n",
       "    </tr>\n",
       "    <tr>\n",
       "      <th>79859</th>\n",
       "      <td>d064be88116eb8b958727aec4cf56a59</td>\n",
       "      <td>ff922bdd6bafcdf99cb90d7f39cea5b3</td>\n",
       "      <td>17340</td>\n",
       "      <td>barra bonita</td>\n",
       "      <td>SP</td>\n",
       "    </tr>\n",
       "    <tr>\n",
       "      <th>64323</th>\n",
       "      <td>4b231c90751c27521f7ee27ed2dc3b8f</td>\n",
       "      <td>ffe254cc039740e17dd15a5305035928</td>\n",
       "      <td>37640</td>\n",
       "      <td>extrema</td>\n",
       "      <td>MG</td>\n",
       "    </tr>\n",
       "    <tr>\n",
       "      <th>12133</th>\n",
       "      <td>0088395699ea0fcd459bfbef084997db</td>\n",
       "      <td>ffe254cc039740e17dd15a5305035928</td>\n",
       "      <td>37640</td>\n",
       "      <td>extrema</td>\n",
       "      <td>MG</td>\n",
       "    </tr>\n",
       "  </tbody>\n",
       "</table>\n",
       "<p>6342 rows × 5 columns</p>\n",
       "</div>"
      ],
      "text/plain": [
       "                            customer_id                customer_unique_id  \\\n",
       "35608  24b0e2bd287e47d54d193e7bbb51103f  00172711b30d52eea8b313a7f2cced02   \n",
       "19299  1afe8a9c67eec3516c09a8bdcc539090  00172711b30d52eea8b313a7f2cced02   \n",
       "20023  1b4a75b3478138e99902678254b260f4  004288347e5e88a27ded2bb23747066c   \n",
       "22066  f6efe5d5c7b85e12355f9d5c3db46da2  004288347e5e88a27ded2bb23747066c   \n",
       "72451  49cf243e0d353cd418ca77868e24a670  004b45ec5c64187465168251cd1c9c2f   \n",
       "...                                 ...                               ...   \n",
       "75057  1ae563fdfa500d150be6578066d83998  ff922bdd6bafcdf99cb90d7f39cea5b3   \n",
       "27992  bec0bf00ac5bee64ce8ef5283051a70c  ff922bdd6bafcdf99cb90d7f39cea5b3   \n",
       "79859  d064be88116eb8b958727aec4cf56a59  ff922bdd6bafcdf99cb90d7f39cea5b3   \n",
       "64323  4b231c90751c27521f7ee27ed2dc3b8f  ffe254cc039740e17dd15a5305035928   \n",
       "12133  0088395699ea0fcd459bfbef084997db  ffe254cc039740e17dd15a5305035928   \n",
       "\n",
       "       customer_zip_code_prefix customer_city customer_state  \n",
       "35608                     45200        jequie             BA  \n",
       "19299                     45200        jequie             BA  \n",
       "20023                     26220   nova iguacu             RJ  \n",
       "22066                     26220   nova iguacu             RJ  \n",
       "72451                     57055        maceio             AL  \n",
       "...                         ...           ...            ...  \n",
       "75057                     17340  barra bonita             SP  \n",
       "27992                     17340  barra bonita             SP  \n",
       "79859                     17340  barra bonita             SP  \n",
       "64323                     37640       extrema             MG  \n",
       "12133                     37640       extrema             MG  \n",
       "\n",
       "[6342 rows x 5 columns]"
      ]
     },
     "execution_count": 14,
     "metadata": {},
     "output_type": "execute_result"
    }
   ],
   "source": [
    "duplicados_unique = customers[customers.duplicated(subset=['customer_unique_id'], keep=False)]\n",
    "duplicados_unique_ordenados = duplicados_unique.sort_values(by='customer_unique_id')\n",
    "duplicados_unique_ordenados"
   ]
  },
  {
   "cell_type": "markdown",
   "metadata": {},
   "source": [
    "Después de un análisis exhaustivo de los datos, se ha determinado que un 3,36% de los registros presentan duplicados en esta columna.\n",
    "\n",
    "Al ser un porcentaje bajo del total, he decidido eliminarlos, ya que la presencia de duplicados puede generar inconsistencias en el análisis y afectar la precisión de los resultados. Eliminar estos duplicados contribuirá a mantener la coherencia y la fiabilidad de los datos."
   ]
  },
  {
   "cell_type": "code",
   "execution_count": 15,
   "metadata": {},
   "outputs": [],
   "source": [
    "customers = customers.drop_duplicates(subset='customer_unique_id')"
   ]
  },
  {
   "cell_type": "markdown",
   "metadata": {},
   "source": [
    "Revisamos la longitud del conjunto de datos nuevamente para corroborar que se eliminaron los duplicados. Efectivamente, se realizó la modificación."
   ]
  },
  {
   "cell_type": "code",
   "execution_count": 16,
   "metadata": {},
   "outputs": [
    {
     "data": {
      "text/plain": [
       "96096"
      ]
     },
     "execution_count": 16,
     "metadata": {},
     "output_type": "execute_result"
    }
   ],
   "source": [
    "len(customers)"
   ]
  },
  {
   "cell_type": "markdown",
   "metadata": {},
   "source": [
    "### ``customer_zip_code_prefix``"
   ]
  },
  {
   "cell_type": "markdown",
   "metadata": {},
   "source": [
    "Se verificó que hay duplicados en esta columna, lo que nos indica que tenemos varios clientes de la misma zona."
   ]
  },
  {
   "cell_type": "code",
   "execution_count": 17,
   "metadata": {},
   "outputs": [
    {
     "data": {
      "text/plain": [
       "customer_zip_code_prefix\n",
       "True     81114\n",
       "False    14982\n",
       "Name: count, dtype: int64"
      ]
     },
     "execution_count": 17,
     "metadata": {},
     "output_type": "execute_result"
    }
   ],
   "source": [
    "customers['customer_zip_code_prefix'].duplicated().value_counts()"
   ]
  },
  {
   "cell_type": "markdown",
   "metadata": {},
   "source": [
    "### ``customer_city``"
   ]
  },
  {
   "cell_type": "markdown",
   "metadata": {},
   "source": [
    "Elegiremos los primeros 10 valores, ya que contamos con 4118 ciudades que se repiten, lo cual no tiene una representación significativa en porcentaje como las primeras 10 ciudades."
   ]
  },
  {
   "cell_type": "code",
   "execution_count": 18,
   "metadata": {},
   "outputs": [
    {
     "data": {
      "text/plain": [
       "customer_city\n",
       "sao paulo                14971\n",
       "rio de janeiro            6611\n",
       "belo horizonte            2671\n",
       "brasilia                  2066\n",
       "curitiba                  1462\n",
       "campinas                  1397\n",
       "porto alegre              1326\n",
       "salvador                  1208\n",
       "guarulhos                 1151\n",
       "sao bernardo do campo      908\n",
       "Name: count, dtype: int64"
      ]
     },
     "execution_count": 18,
     "metadata": {},
     "output_type": "execute_result"
    }
   ],
   "source": [
    "top_10_ciudades = customers['customer_city'].value_counts().head(10)\n",
    "top_10_ciudades"
   ]
  },
  {
   "cell_type": "markdown",
   "metadata": {},
   "source": [
    "Se corrigió el nombre de la columna a 'Customer_municipality', dado que se averiguó que en Brasil no se les denomina ciudades, sino municipios."
   ]
  },
  {
   "cell_type": "code",
   "execution_count": 19,
   "metadata": {},
   "outputs": [],
   "source": [
    "customers.rename(columns={'customer_city': 'customer_municipality'}, inplace=True)"
   ]
  },
  {
   "cell_type": "markdown",
   "metadata": {},
   "source": [
    "### ``customer_state``"
   ]
  },
  {
   "cell_type": "markdown",
   "metadata": {},
   "source": [
    "Se verifican los duplicados en los estados de Brasil, dado que el contador solo puede dar como máximo 27, que es la cantidad exacta de estados en Brasil."
   ]
  },
  {
   "cell_type": "code",
   "execution_count": 20,
   "metadata": {},
   "outputs": [
    {
     "data": {
      "text/plain": [
       "customer_state\n",
       "True     96069\n",
       "False       27\n",
       "Name: count, dtype: int64"
      ]
     },
     "execution_count": 20,
     "metadata": {},
     "output_type": "execute_result"
    }
   ],
   "source": [
    "customers['customer_state'].duplicated().value_counts()"
   ]
  },
  {
   "cell_type": "markdown",
   "metadata": {},
   "source": [
    "Contamos cuántos clientes tenemos por estado para determinar cuál es el más relevante."
   ]
  },
  {
   "cell_type": "code",
   "execution_count": 21,
   "metadata": {},
   "outputs": [
    {
     "data": {
      "text/plain": [
       "customer_state\n",
       "SP    40295\n",
       "RJ    12377\n",
       "MG    11255\n",
       "RS     5277\n",
       "PR     4882\n",
       "SC     3529\n",
       "BA     3276\n",
       "DF     2073\n",
       "ES     1963\n",
       "GO     1951\n",
       "PE     1604\n",
       "CE     1311\n",
       "PA      949\n",
       "MT      875\n",
       "MA      725\n",
       "MS      693\n",
       "PB      519\n",
       "PI      482\n",
       "RN      474\n",
       "AL      401\n",
       "SE      341\n",
       "TO      273\n",
       "RO      239\n",
       "AM      143\n",
       "AC       77\n",
       "AP       67\n",
       "RR       45\n",
       "Name: count, dtype: int64"
      ]
     },
     "execution_count": 21,
     "metadata": {},
     "output_type": "execute_result"
    }
   ],
   "source": [
    "customers['customer_state'].value_counts()"
   ]
  },
  {
   "cell_type": "markdown",
   "metadata": {},
   "source": [
    "A modo de verificar la consistencia de los datos, pregunté a ChatGPT sobre la cantidad de ciudades y estados que posee Brasil. En el proceso, corroboré que efectivamente Brasil tiene 27 estados, incluyendo Brasilia, que es un Distrito Federal, y tiene 5570 municipios, los cuales están siendo referenciados como 'customer_city' en nuestro dataset. Observé que los duplicados, en este caso, están mostrando los valores correctos, con un número de 4118 municipios y 27 estados.\n",
    "\n",
    "Conclusiones:\n",
    "\n",
    "- Se identificaron 3345 duplicados en la columna de identificación de clientes.\n",
    "- En Brasil no se les llama ciudades, sino municipios; por lo tanto, se corregió el nombre de la columna.\n",
    "- Se confirmo que tenemos clientes de todos los municipios de Brasil.\n",
    "- Se observo que el municipio que más clientes tiene es Sao Paulo, con un 15% del total.\n",
    "- Además, Sao Paulo también es el que más clientes posee, con un 42% del total de clientes.\n",
    "- Tenemos clientes en el 75% de Brasil.\n",
    "\n",
    "FUENTE: (https://chatgpt.com/share/9822ce44-a0e4-454f-9659-64eec23b63aa)"
   ]
  },
  {
   "cell_type": "markdown",
   "metadata": {},
   "source": [
    "----"
   ]
  },
  {
   "cell_type": "markdown",
   "metadata": {},
   "source": [
    "### **Dataset Ordenes**"
   ]
  },
  {
   "cell_type": "markdown",
   "metadata": {},
   "source": [
    "Revisamos la composición de los datos."
   ]
  },
  {
   "cell_type": "code",
   "execution_count": 22,
   "metadata": {},
   "outputs": [
    {
     "data": {
      "text/html": [
       "<div>\n",
       "<style scoped>\n",
       "    .dataframe tbody tr th:only-of-type {\n",
       "        vertical-align: middle;\n",
       "    }\n",
       "\n",
       "    .dataframe tbody tr th {\n",
       "        vertical-align: top;\n",
       "    }\n",
       "\n",
       "    .dataframe thead th {\n",
       "        text-align: right;\n",
       "    }\n",
       "</style>\n",
       "<table border=\"1\" class=\"dataframe\">\n",
       "  <thead>\n",
       "    <tr style=\"text-align: right;\">\n",
       "      <th></th>\n",
       "      <th>order_id</th>\n",
       "      <th>customer_id</th>\n",
       "      <th>order_status</th>\n",
       "      <th>order_approved_at</th>\n",
       "      <th>order_received_by_local_operator_date</th>\n",
       "      <th>order_delivered_to_customer_date</th>\n",
       "      <th>order_delivery_promise_date</th>\n",
       "    </tr>\n",
       "  </thead>\n",
       "  <tbody>\n",
       "    <tr>\n",
       "      <th>0</th>\n",
       "      <td>e481f51cbdc54678b7cc49136f2d6af7</td>\n",
       "      <td>9ef432eb6251297304e76186b10a928d</td>\n",
       "      <td>delivered</td>\n",
       "      <td>2017-10-02 11:07:15</td>\n",
       "      <td>2017-10-04 19:55:00</td>\n",
       "      <td>2017-10-10 21:25:13</td>\n",
       "      <td>2017-10-18</td>\n",
       "    </tr>\n",
       "    <tr>\n",
       "      <th>1</th>\n",
       "      <td>53cdb2fc8bc7dce0b6741e2150273451</td>\n",
       "      <td>b0830fb4747a6c6d20dea0b8c802d7ef</td>\n",
       "      <td>delivered</td>\n",
       "      <td>2018-07-26 03:24:27</td>\n",
       "      <td>2018-07-26 14:31:00</td>\n",
       "      <td>2018-08-07 15:27:45</td>\n",
       "      <td>2018-08-13</td>\n",
       "    </tr>\n",
       "    <tr>\n",
       "      <th>2</th>\n",
       "      <td>47770eb9100c2d0c44946d9cf07ec65d</td>\n",
       "      <td>41ce2a54c0b03bf3443c3d931a367089</td>\n",
       "      <td>delivered</td>\n",
       "      <td>2018-08-08 08:55:23</td>\n",
       "      <td>2018-08-08 13:50:00</td>\n",
       "      <td>2018-08-17 18:06:29</td>\n",
       "      <td>2018-09-04</td>\n",
       "    </tr>\n",
       "    <tr>\n",
       "      <th>3</th>\n",
       "      <td>949d5b44dbf5de918fe9c16f97b45f8a</td>\n",
       "      <td>f88197465ea7920adcdbec7375364d82</td>\n",
       "      <td>delivered</td>\n",
       "      <td>2017-11-18 19:45:59</td>\n",
       "      <td>2017-11-22 13:39:59</td>\n",
       "      <td>2017-12-02 00:28:42</td>\n",
       "      <td>2017-12-15</td>\n",
       "    </tr>\n",
       "    <tr>\n",
       "      <th>4</th>\n",
       "      <td>ad21c59c0840e6cb83a9ceb5573f8159</td>\n",
       "      <td>8ab97904e6daea8866dbdbc4fb7aad2c</td>\n",
       "      <td>delivered</td>\n",
       "      <td>2018-02-13 22:20:29</td>\n",
       "      <td>2018-02-14 19:46:34</td>\n",
       "      <td>2018-02-16 18:17:02</td>\n",
       "      <td>2018-02-26</td>\n",
       "    </tr>\n",
       "  </tbody>\n",
       "</table>\n",
       "</div>"
      ],
      "text/plain": [
       "                           order_id                       customer_id  \\\n",
       "0  e481f51cbdc54678b7cc49136f2d6af7  9ef432eb6251297304e76186b10a928d   \n",
       "1  53cdb2fc8bc7dce0b6741e2150273451  b0830fb4747a6c6d20dea0b8c802d7ef   \n",
       "2  47770eb9100c2d0c44946d9cf07ec65d  41ce2a54c0b03bf3443c3d931a367089   \n",
       "3  949d5b44dbf5de918fe9c16f97b45f8a  f88197465ea7920adcdbec7375364d82   \n",
       "4  ad21c59c0840e6cb83a9ceb5573f8159  8ab97904e6daea8866dbdbc4fb7aad2c   \n",
       "\n",
       "  order_status   order_approved_at order_received_by_local_operator_date  \\\n",
       "0    delivered 2017-10-02 11:07:15                   2017-10-04 19:55:00   \n",
       "1    delivered 2018-07-26 03:24:27                   2018-07-26 14:31:00   \n",
       "2    delivered 2018-08-08 08:55:23                   2018-08-08 13:50:00   \n",
       "3    delivered 2017-11-18 19:45:59                   2017-11-22 13:39:59   \n",
       "4    delivered 2018-02-13 22:20:29                   2018-02-14 19:46:34   \n",
       "\n",
       "  order_delivered_to_customer_date order_delivery_promise_date  \n",
       "0              2017-10-10 21:25:13                  2017-10-18  \n",
       "1              2018-08-07 15:27:45                  2018-08-13  \n",
       "2              2018-08-17 18:06:29                  2018-09-04  \n",
       "3              2017-12-02 00:28:42                  2017-12-15  \n",
       "4              2018-02-16 18:17:02                  2018-02-26  "
      ]
     },
     "execution_count": 22,
     "metadata": {},
     "output_type": "execute_result"
    }
   ],
   "source": [
    "orders.head(5)"
   ]
  },
  {
   "cell_type": "markdown",
   "metadata": {},
   "source": [
    "### ``order_id``"
   ]
  },
  {
   "cell_type": "markdown",
   "metadata": {},
   "source": [
    "Observar la ausencia de duplicados en nuestros registros de pedidos resalta una generación sólida de pedidos únicos, lo que confirma la integridad de nuestro sistema y la eficacia de nuestros procesos de registro."
   ]
  },
  {
   "cell_type": "code",
   "execution_count": 23,
   "metadata": {},
   "outputs": [
    {
     "data": {
      "text/plain": [
       "order_id\n",
       "False    99281\n",
       "Name: count, dtype: int64"
      ]
     },
     "execution_count": 23,
     "metadata": {},
     "output_type": "execute_result"
    }
   ],
   "source": [
    "orders['order_id'].duplicated().value_counts()"
   ]
  },
  {
   "cell_type": "markdown",
   "metadata": {},
   "source": [
    "### ``customer_id``"
   ]
  },
  {
   "cell_type": "markdown",
   "metadata": {},
   "source": [
    "Hemos observado que no existen duplicados en los registros de identificación de clientes en relación con los pedidos."
   ]
  },
  {
   "cell_type": "code",
   "execution_count": 24,
   "metadata": {},
   "outputs": [
    {
     "data": {
      "text/plain": [
       "customer_id\n",
       "False    99281\n",
       "Name: count, dtype: int64"
      ]
     },
     "execution_count": 24,
     "metadata": {},
     "output_type": "execute_result"
    }
   ],
   "source": [
    "orders['customer_id'].duplicated().value_counts()"
   ]
  },
  {
   "cell_type": "markdown",
   "metadata": {},
   "source": [
    "Para determinar qué cliente realizó más pedidos, decidimos realizar un conteo y verificar el ID correspondiente. Sin embargo, observamos que no hay más de un pedido por cliente, lo que nos parece inconsistente. Nuestro dataset previo de clientes, después de eliminar duplicados, contiene un total de 96096 registros, lo que indica que tenemos esa cantidad de clientes. \n",
    "\n",
    "Al analizar el dataset de órdenes y realizar el proceso de contar valores para verificar si algún cliente realizó más de un pedido, notamos que ninguno se repite. Esto nos lleva a la conclusión de que los valores no están correctos.\n",
    "\n",
    "En resumen, nuestro dataset de clientes tiene un total de 96,096 clientes, y nuestro dataset de órdenes, que no contiene más de una orden por cliente, nos muestra un total de 99281 pedidos, lo cual no concuerda, ya que ningún cliente ha realizado más de un pedido."
   ]
  },
  {
   "cell_type": "code",
   "execution_count": 25,
   "metadata": {},
   "outputs": [
    {
     "data": {
      "text/plain": [
       "customer_id\n",
       "9ef432eb6251297304e76186b10a928d    1\n",
       "82eb0f700864871ddc51572601014ba4    1\n",
       "b794220321d905dbfd3740e2292244bd    1\n",
       "12ca54ef905df73b98dcf7ccb0b92d92    1\n",
       "b67d9091d904c9237c3f00382f721c5b    1\n",
       "                                   ..\n",
       "16be3ab0d37467d1f96d6fc30613ee57    1\n",
       "6260e99309fefdfaef12d0ef8fe82e77    1\n",
       "2ab60fd96df98dda774845cbc22d5468    1\n",
       "becec6158cf50315fdde081c3264fdb9    1\n",
       "edb027a75a1449115f6b43211ae02a24    1\n",
       "Name: count, Length: 99281, dtype: int64"
      ]
     },
     "execution_count": 25,
     "metadata": {},
     "output_type": "execute_result"
    }
   ],
   "source": [
    "orders['customer_id'].value_counts()"
   ]
  },
  {
   "cell_type": "markdown",
   "metadata": {},
   "source": [
    "### ``order_status``"
   ]
  },
  {
   "cell_type": "markdown",
   "metadata": {},
   "source": [
    "Observamos que tenemos 7 posibles estados para nuestras órdenes, que son:\n",
    "\n",
    "- Entregado \n",
    "- Enviado \n",
    "- No disponible \n",
    "- Cancelado \n",
    "- Facturado \n",
    "- En proceso \n",
    "- Aprobado"
   ]
  },
  {
   "cell_type": "code",
   "execution_count": 26,
   "metadata": {},
   "outputs": [
    {
     "name": "stdout",
     "output_type": "stream",
     "text": [
      "Los valores de order_status:\n",
      "delivered      96464\n",
      "shipped         1107\n",
      "unavailable      609\n",
      "canceled         484\n",
      "invoiced         314\n",
      "processing       301\n",
      "approved           2\n",
      "\n",
      "El porcentaje que representa cada valor:\n",
      "delivered      97.16\n",
      "shipped         1.12\n",
      "unavailable     0.61\n",
      "canceled        0.49\n",
      "invoiced        0.32\n",
      "processing      0.30\n",
      "approved        0.00\n"
     ]
    }
   ],
   "source": [
    "F.cantidad_porcentaje(orders,'order_status')"
   ]
  },
  {
   "cell_type": "markdown",
   "metadata": {},
   "source": [
    "### ``order_approved_at``"
   ]
  },
  {
   "cell_type": "markdown",
   "metadata": {},
   "source": [
    "Se realizó una descripción de los valores que presenta la columna 'order_approved_at', y lo que nos interesa son los valores mínimos y máximos para poder determinar el rango de fechas en el cual se recibieron pedidos. Según el dataset, nuestro primer pedido fue el 15/09/2016 y el último fue el 03/09/2018."
   ]
  },
  {
   "cell_type": "code",
   "execution_count": 27,
   "metadata": {},
   "outputs": [
    {
     "data": {
      "text/plain": [
       "count                            99281\n",
       "mean     2017-12-31 18:35:24.098800384\n",
       "min                2016-09-15 12:16:38\n",
       "25%                2017-09-12 23:24:16\n",
       "50%                2018-01-19 11:36:13\n",
       "75%                2018-05-04 20:35:10\n",
       "max                2018-09-03 17:40:06\n",
       "Name: order_approved_at, dtype: object"
      ]
     },
     "execution_count": 27,
     "metadata": {},
     "output_type": "execute_result"
    }
   ],
   "source": [
    "orders['order_approved_at'].describe()"
   ]
  },
  {
   "cell_type": "markdown",
   "metadata": {},
   "source": [
    "### ``order_received_by_local_operator_date``"
   ]
  },
  {
   "cell_type": "markdown",
   "metadata": {},
   "source": [
    "En el inicio de este proceso ETL, se corroboró que esta columna tiene valores nulos (1637). Ahora procederemos a ubicar esos registros."
   ]
  },
  {
   "cell_type": "code",
   "execution_count": 28,
   "metadata": {},
   "outputs": [
    {
     "data": {
      "text/plain": [
       "order_status\n",
       "unavailable    609\n",
       "canceled       409\n",
       "invoiced       314\n",
       "processing     301\n",
       "approved         2\n",
       "delivered        2\n",
       "Name: count, dtype: int64"
      ]
     },
     "execution_count": 28,
     "metadata": {},
     "output_type": "execute_result"
    }
   ],
   "source": [
    "ordenes_nulas_recibidas = orders.loc[orders['order_received_by_local_operator_date'].isnull()]\n",
    "ordenes_nulas_recibidas['order_status'].value_counts()"
   ]
  },
  {
   "cell_type": "markdown",
   "metadata": {},
   "source": [
    "Observamos una gran similitud en los valores encontrados en el conteo de 'order_status', siendo el único donde se presenta diferencia el de los cancelados.\n",
    "\n",
    "Esto puede deberse a que inicialmente se recibió la orden por parte del operador local y luego el cliente la canceló. Aunque se generó la orden, nunca se entregará debido a la cancelación.\n",
    "\n",
    "En resumen, al realizar el conteo, la columna 'order_status' indica que tenemos 484 cancelaciones, mientras que al hacerlo en la columna 'order_received_by_local_operator_date', nos muestra 409 cancelaciones. Es decir, hubo 75 pedidos cancelados después de que se generara la orden para el operador local."
   ]
  },
  {
   "cell_type": "code",
   "execution_count": 29,
   "metadata": {},
   "outputs": [
    {
     "data": {
      "text/plain": [
       "count                            97644\n",
       "mean     2018-01-04 22:55:51.933677056\n",
       "min                2016-10-08 10:34:01\n",
       "25%      2017-09-15 23:45:44.750000128\n",
       "50%                2018-01-24 16:38:54\n",
       "75%                2018-05-08 13:40:00\n",
       "max                2018-09-11 19:48:28\n",
       "Name: order_received_by_local_operator_date, dtype: object"
      ]
     },
     "execution_count": 29,
     "metadata": {},
     "output_type": "execute_result"
    }
   ],
   "source": [
    "orders['order_received_by_local_operator_date'].describe()"
   ]
  },
  {
   "cell_type": "markdown",
   "metadata": {},
   "source": [
    "Como se hizo anteriormente, verificamos que la fecha mínima no sea anterior a la mostrada en la aprobación de la primera orden.\n",
    "\n",
    "Efectivamente, encontramos una diferencia de aproximadamente 25 días con respecto a la primera orden aprobada. Luego, la fecha máxima debería lógicamente ser posterior a la que se muestra en la última fecha de aprobación de orden, y efectivamente es 8 días después de la última orden."
   ]
  },
  {
   "cell_type": "markdown",
   "metadata": {},
   "source": [
    "Se tomó la decisión de no eliminar estos valores que están en diferentes estados al de aprobado, dado que no nos sería de confianza tener datos en los que no tenemos registros de cancelación, no disponible y otros estados para poder analizarlos."
   ]
  },
  {
   "cell_type": "markdown",
   "metadata": {},
   "source": [
    "### ``order_delivered_to_customer_date``"
   ]
  },
  {
   "cell_type": "markdown",
   "metadata": {},
   "source": [
    "En esta columna encontramos más valores nulos que en la anterior, con un total de 2819 registros. Extraeremos estos registros para revisar sus estados y sacar conclusiones."
   ]
  },
  {
   "cell_type": "code",
   "execution_count": 30,
   "metadata": {},
   "outputs": [
    {
     "data": {
      "text/plain": [
       "order_status\n",
       "shipped        1107\n",
       "unavailable     609\n",
       "canceled        478\n",
       "invoiced        314\n",
       "processing      301\n",
       "delivered         8\n",
       "approved          2\n",
       "Name: count, dtype: int64"
      ]
     },
     "execution_count": 30,
     "metadata": {},
     "output_type": "execute_result"
    }
   ],
   "source": [
    "ordenes_nulas_entregadas = orders.loc[orders['order_delivered_to_customer_date'].isnull()]\n",
    "ordenes_nulas_entregadas['order_status'].value_counts()"
   ]
  },
  {
   "cell_type": "markdown",
   "metadata": {},
   "source": [
    "En este conteo observamos algunas diferencias; Una gran cantidad de pedidos están marcados como enviados (1107), pero aún no han sido entregados, por lo que figuran como NaT (Not a Time) y se interpretan como valores nulos. \n",
    "\n",
    "Además, nuevamente encontramos discrepancias con respecto a los pedidos cancelados. En el análisis inicial de la columna 'order_status', teníamos 484 órdenes canceladas, pero en este análisis de la columna 'order_delivered_to_customer_date', encontramos 478 canceladas. Notamos que ninguna de las dos columnas coincide con el valor del análisis de la columna 'order_status', es decir, ninguna representa en su totalidad las cancelaciones, pero sí los otros estados. Esto se debe a que tenemos 6 órdenes que fueron canceladas después de ser entregadas. Ahora buscaremos esos registros."
   ]
  },
  {
   "cell_type": "code",
   "execution_count": 31,
   "metadata": {},
   "outputs": [
    {
     "data": {
      "text/html": [
       "<div>\n",
       "<style scoped>\n",
       "    .dataframe tbody tr th:only-of-type {\n",
       "        vertical-align: middle;\n",
       "    }\n",
       "\n",
       "    .dataframe tbody tr th {\n",
       "        vertical-align: top;\n",
       "    }\n",
       "\n",
       "    .dataframe thead th {\n",
       "        text-align: right;\n",
       "    }\n",
       "</style>\n",
       "<table border=\"1\" class=\"dataframe\">\n",
       "  <thead>\n",
       "    <tr style=\"text-align: right;\">\n",
       "      <th></th>\n",
       "      <th>order_id</th>\n",
       "      <th>customer_id</th>\n",
       "      <th>order_status</th>\n",
       "      <th>order_approved_at</th>\n",
       "      <th>order_received_by_local_operator_date</th>\n",
       "      <th>order_delivered_to_customer_date</th>\n",
       "      <th>order_delivery_promise_date</th>\n",
       "    </tr>\n",
       "  </thead>\n",
       "  <tbody>\n",
       "    <tr>\n",
       "      <th>2916</th>\n",
       "      <td>1950d777989f6a877539f53795b4c3c3</td>\n",
       "      <td>1bccb206de9f0f25adc6871a1bcf77b2</td>\n",
       "      <td>canceled</td>\n",
       "      <td>2018-02-19 20:56:05</td>\n",
       "      <td>2018-02-20 19:57:13</td>\n",
       "      <td>2018-03-21 22:03:51</td>\n",
       "      <td>2018-03-09</td>\n",
       "    </tr>\n",
       "    <tr>\n",
       "      <th>8772</th>\n",
       "      <td>dabf2b0e35b423f94618bf965fcb7514</td>\n",
       "      <td>5cdec0bb8cbdf53ffc8fdc212cd247c6</td>\n",
       "      <td>canceled</td>\n",
       "      <td>2016-10-09 13:36:58</td>\n",
       "      <td>2016-10-13 13:36:59</td>\n",
       "      <td>2016-10-16 14:36:59</td>\n",
       "      <td>2016-11-30</td>\n",
       "    </tr>\n",
       "    <tr>\n",
       "      <th>58166</th>\n",
       "      <td>770d331c84e5b214bd9dc70a10b829d0</td>\n",
       "      <td>6c57e6119369185e575b36712766b0ef</td>\n",
       "      <td>canceled</td>\n",
       "      <td>2016-10-07 15:07:10</td>\n",
       "      <td>2016-10-11 15:07:11</td>\n",
       "      <td>2016-10-14 15:07:11</td>\n",
       "      <td>2016-11-29</td>\n",
       "    </tr>\n",
       "    <tr>\n",
       "      <th>59231</th>\n",
       "      <td>8beb59392e21af5eb9547ae1a9938d06</td>\n",
       "      <td>bf609b5741f71697f65ce3852c5d2623</td>\n",
       "      <td>canceled</td>\n",
       "      <td>2016-10-09 14:34:30</td>\n",
       "      <td>2016-10-14 22:45:26</td>\n",
       "      <td>2016-10-19 18:47:43</td>\n",
       "      <td>2016-11-30</td>\n",
       "    </tr>\n",
       "    <tr>\n",
       "      <th>92489</th>\n",
       "      <td>65d1e226dfaeb8cdc42f665422522d14</td>\n",
       "      <td>70fc57eeae292675927697fe03ad3ff5</td>\n",
       "      <td>canceled</td>\n",
       "      <td>2016-10-04 10:18:57</td>\n",
       "      <td>2016-10-25 12:14:28</td>\n",
       "      <td>2016-11-08 10:58:34</td>\n",
       "      <td>2016-11-25</td>\n",
       "    </tr>\n",
       "    <tr>\n",
       "      <th>94247</th>\n",
       "      <td>2c45c33d2f9cb8ff8b1c86cc28c11c30</td>\n",
       "      <td>de4caa97afa80c8eeac2ff4c8da5b72e</td>\n",
       "      <td>canceled</td>\n",
       "      <td>2016-10-10 10:40:49</td>\n",
       "      <td>2016-10-14 10:40:50</td>\n",
       "      <td>2016-11-09 14:53:50</td>\n",
       "      <td>2016-12-08</td>\n",
       "    </tr>\n",
       "  </tbody>\n",
       "</table>\n",
       "</div>"
      ],
      "text/plain": [
       "                               order_id                       customer_id  \\\n",
       "2916   1950d777989f6a877539f53795b4c3c3  1bccb206de9f0f25adc6871a1bcf77b2   \n",
       "8772   dabf2b0e35b423f94618bf965fcb7514  5cdec0bb8cbdf53ffc8fdc212cd247c6   \n",
       "58166  770d331c84e5b214bd9dc70a10b829d0  6c57e6119369185e575b36712766b0ef   \n",
       "59231  8beb59392e21af5eb9547ae1a9938d06  bf609b5741f71697f65ce3852c5d2623   \n",
       "92489  65d1e226dfaeb8cdc42f665422522d14  70fc57eeae292675927697fe03ad3ff5   \n",
       "94247  2c45c33d2f9cb8ff8b1c86cc28c11c30  de4caa97afa80c8eeac2ff4c8da5b72e   \n",
       "\n",
       "      order_status   order_approved_at order_received_by_local_operator_date  \\\n",
       "2916      canceled 2018-02-19 20:56:05                   2018-02-20 19:57:13   \n",
       "8772      canceled 2016-10-09 13:36:58                   2016-10-13 13:36:59   \n",
       "58166     canceled 2016-10-07 15:07:10                   2016-10-11 15:07:11   \n",
       "59231     canceled 2016-10-09 14:34:30                   2016-10-14 22:45:26   \n",
       "92489     canceled 2016-10-04 10:18:57                   2016-10-25 12:14:28   \n",
       "94247     canceled 2016-10-10 10:40:49                   2016-10-14 10:40:50   \n",
       "\n",
       "      order_delivered_to_customer_date order_delivery_promise_date  \n",
       "2916               2018-03-21 22:03:51                  2018-03-09  \n",
       "8772               2016-10-16 14:36:59                  2016-11-30  \n",
       "58166              2016-10-14 15:07:11                  2016-11-29  \n",
       "59231              2016-10-19 18:47:43                  2016-11-30  \n",
       "92489              2016-11-08 10:58:34                  2016-11-25  \n",
       "94247              2016-11-09 14:53:50                  2016-12-08  "
      ]
     },
     "execution_count": 31,
     "metadata": {},
     "output_type": "execute_result"
    }
   ],
   "source": [
    "filtered_orders = orders.loc[(orders['order_status'] == 'canceled') & (~orders['order_received_by_local_operator_date'].isnull()) &  (~orders['order_delivered_to_customer_date'].isnull())]\n",
    "\n",
    "filtered_orders"
   ]
  },
  {
   "cell_type": "markdown",
   "metadata": {},
   "source": [
    "Como originalmente se presumía, tenemos 6 registros con cancelaciones de diferencia, los cuales ya habían sido entregados."
   ]
  },
  {
   "cell_type": "code",
   "execution_count": 32,
   "metadata": {},
   "outputs": [
    {
     "data": {
      "text/plain": [
       "count                            96462\n",
       "mean     2018-01-14 13:16:24.206247168\n",
       "min                2016-10-11 13:46:32\n",
       "25%         2017-09-25 22:32:42.500000\n",
       "50%                2018-02-02 19:49:47\n",
       "75%         2018-05-15 23:07:37.500000\n",
       "max                2018-10-17 13:22:46\n",
       "Name: order_delivered_to_customer_date, dtype: object"
      ]
     },
     "execution_count": 32,
     "metadata": {},
     "output_type": "execute_result"
    }
   ],
   "source": [
    "orders['order_delivered_to_customer_date'].describe()"
   ]
  },
  {
   "cell_type": "markdown",
   "metadata": {},
   "source": [
    "Como se hizo anteriormente, verificamos que la fecha mínima no sea anterior a la que se muestra en la aprobación de la primera orden. Efectivamente, encontramos una diferencia de 3 días con respecto a la primera orden enviada al operador local.\n",
    "\n",
    "Luego, la fecha máxima debería lógicamente ser posterior a la que se muestra en la última fecha de recepción de orden del operador local, y efectivamente es 36 días después de la última orden recibida por el operador local."
   ]
  },
  {
   "cell_type": "markdown",
   "metadata": {},
   "source": [
    "### ``order_delivery_promise_date``"
   ]
  },
  {
   "cell_type": "markdown",
   "metadata": {},
   "source": [
    "Se procedió a crear un nuevo DataFrame en el cual se realizó la resta de la columna 'order_delivery_promise_date' (fecha prometida) y 'order_delivered_to_customer_date' (fecha de entrega) para verificar si hay retrasos, y se confirmó que sí los hay.  \n",
    "\n",
    "Se encontraron un total de 7827 demoras con respecto a la fecha prometida."
   ]
  },
  {
   "cell_type": "code",
   "execution_count": 33,
   "metadata": {},
   "outputs": [
    {
     "name": "stdout",
     "output_type": "stream",
     "text": [
      "Entregas tempranas: 87173\n",
      "Demoras: 7827\n"
     ]
    }
   ],
   "source": [
    "nuevo_df = pd.DataFrame({ 'fecha_entrega': orders['order_delivered_to_customer_date'],\n",
    "'fecha_prometida': orders['order_delivery_promise_date'] })\n",
    "\n",
    "nuevo_df['duracion'] = nuevo_df['fecha_prometida'] - nuevo_df['fecha_entrega']\n",
    "nuevo_df['duracion'] = nuevo_df['duracion'].dt.days\n",
    "nuevo_df = nuevo_df.dropna(subset=['duracion']) #Se quitan los valores negativos dado que no se le puede cambiar el tipo de dato a la columna si posee valores negativos.\n",
    "\n",
    "nuevo_df['duracion'] = nuevo_df['duracion'].astype(int)\n",
    "nuevo_df['duracion'].value_counts()\n",
    "\n",
    "entregas_tempranas = nuevo_df[nuevo_df['duracion'] > 0]['duracion'].count()\n",
    "demoras = nuevo_df[nuevo_df['duracion'] < 0]['duracion'].count()\n",
    "\n",
    "print(f\"Entregas tempranas: {entregas_tempranas}\")\n",
    "print(f\"Demoras: {demoras}\")\n"
   ]
  },
  {
   "cell_type": "code",
   "execution_count": 34,
   "metadata": {},
   "outputs": [
    {
     "data": {
      "text/plain": [
       "count    96462.000000\n",
       "mean        10.875391\n",
       "std         10.183586\n",
       "min       -189.000000\n",
       "25%          6.000000\n",
       "50%         11.000000\n",
       "75%         16.000000\n",
       "max        146.000000\n",
       "Name: duracion, dtype: float64"
      ]
     },
     "execution_count": 34,
     "metadata": {},
     "output_type": "execute_result"
    }
   ],
   "source": [
    "nuevo_df['duracion'].describe()"
   ]
  },
  {
   "cell_type": "markdown",
   "metadata": {},
   "source": [
    "Revisamos una descripción de la duración de los envíos, habiendo eliminado previamente los valores nulos, que suman un total de 2819 registros. Esto se considera que no modifica el valor promedio real de entregas, ya que al no tener una fecha de entrega, estos registros no aportaron datos; no se les puede restar nada a la fecha prometida de entrega.\n",
    "\n",
    "Las conclusiones son:\n",
    "- El total de registros es de 99281.\n",
    "- Tenemos 96462 registros completos, lo que representa una gran cantidad con respecto al total.\n",
    "- El promedio de demora en los envíos, incluyendo los outliers (valores atípicos) que sesgan un poco el valor real de las demoras, se sitúa entre 10 y 11 días.\n",
    "- Se observan valores grandes de demora, como 189 días, y valores de entrega sin coherencia, como 146 días antes de lo prometido.\n",
    "- Se detectan incongruencias en cuanto a la cantidad de pedidos y la cantidad de clientes.\n",
    "- Tenemos un 97% de órdenes entregadas.\n",
    "- La coherencia de las columnas de fechas es buena, pero se observan valores anormales."
   ]
  },
  {
   "cell_type": "markdown",
   "metadata": {},
   "source": [
    "\n",
    "## Exportamos archivos 🌐"
   ]
  },
  {
   "cell_type": "markdown",
   "metadata": {},
   "source": [
    "Se realizaron modificaciones en el DataFrame de Clientes, por lo que será exportado nuevamente para asegurar consistencia y calidad en la parte analítica. Además, se exportará el de órdenes para pasarlo a formato CSV, al igual que el de clientes."
   ]
  },
  {
   "cell_type": "code",
   "execution_count": 36,
   "metadata": {},
   "outputs": [],
   "source": [
    "customers.to_excel('../Datasets/bc_customers_dataset_modif.xlsx',index=False)\n",
    "orders.to_excel('../Datasets/bc_orders_dataset_modif.xlsx',index=False)"
   ]
  }
 ],
 "metadata": {
  "kernelspec": {
   "display_name": "Python 3",
   "language": "python",
   "name": "python3"
  },
  "language_info": {
   "codemirror_mode": {
    "name": "ipython",
    "version": 3
   },
   "file_extension": ".py",
   "mimetype": "text/x-python",
   "name": "python",
   "nbconvert_exporter": "python",
   "pygments_lexer": "ipython3",
   "version": "3.11.4"
  }
 },
 "nbformat": 4,
 "nbformat_minor": 2
}
