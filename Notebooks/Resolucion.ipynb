{
 "cells": [
  {
   "cell_type": "markdown",
   "metadata": {},
   "source": [
    "# Resolución de Business Case - Jr Data Analyst"
   ]
  },
  {
   "cell_type": "markdown",
   "metadata": {},
   "source": [
    "En este notebook se presentará la resolución del caso de negocio planteado por la empresa NocNoc de Uruguay. A continuación, se encontrará desde la importación de librerías y la lectura del archivo, hasta la resolución de cada consigna con su justificación y enunciado."
   ]
  },
  {
   "cell_type": "markdown",
   "metadata": {},
   "source": [
    "## Importamos las librerías necesarias 📚"
   ]
  },
  {
   "cell_type": "code",
   "execution_count": 1,
   "metadata": {},
   "outputs": [],
   "source": [
    "import pandas as pd\n",
    "import Funciones as Funciones\n",
    "import matplotlib.pyplot as plt\n",
    "import seaborn as sns\n",
    "import sys\n",
    "sys.path.insert(0, '../')"
   ]
  },
  {
   "cell_type": "markdown",
   "metadata": {},
   "source": [
    "## Lectura de archivos 📂🔄"
   ]
  },
  {
   "cell_type": "code",
   "execution_count": 2,
   "metadata": {},
   "outputs": [],
   "source": [
    "order = pd.read_excel('../Datasets/bc_orders_dataset_modif.xlsx')\n",
    "customer = pd.read_excel('../Datasets/bc_customers_dataset_modif.xlsx')"
   ]
  },
  {
   "cell_type": "code",
   "execution_count": 3,
   "metadata": {},
   "outputs": [
    {
     "data": {
      "text/html": [
       "<div>\n",
       "<style scoped>\n",
       "    .dataframe tbody tr th:only-of-type {\n",
       "        vertical-align: middle;\n",
       "    }\n",
       "\n",
       "    .dataframe tbody tr th {\n",
       "        vertical-align: top;\n",
       "    }\n",
       "\n",
       "    .dataframe thead th {\n",
       "        text-align: right;\n",
       "    }\n",
       "</style>\n",
       "<table border=\"1\" class=\"dataframe\">\n",
       "  <thead>\n",
       "    <tr style=\"text-align: right;\">\n",
       "      <th></th>\n",
       "      <th>order_id</th>\n",
       "      <th>customer_id</th>\n",
       "      <th>order_status</th>\n",
       "      <th>order_approved_at</th>\n",
       "      <th>order_received_by_local_operator_date</th>\n",
       "      <th>order_delivered_to_customer_date</th>\n",
       "      <th>order_delivery_promise_date</th>\n",
       "    </tr>\n",
       "  </thead>\n",
       "  <tbody>\n",
       "    <tr>\n",
       "      <th>0</th>\n",
       "      <td>e481f51cbdc54678b7cc49136f2d6af7</td>\n",
       "      <td>9ef432eb6251297304e76186b10a928d</td>\n",
       "      <td>delivered</td>\n",
       "      <td>2017-10-02 11:07:15</td>\n",
       "      <td>2017-10-04 19:55:00</td>\n",
       "      <td>2017-10-10 21:25:13</td>\n",
       "      <td>2017-10-18</td>\n",
       "    </tr>\n",
       "    <tr>\n",
       "      <th>1</th>\n",
       "      <td>53cdb2fc8bc7dce0b6741e2150273451</td>\n",
       "      <td>b0830fb4747a6c6d20dea0b8c802d7ef</td>\n",
       "      <td>delivered</td>\n",
       "      <td>2018-07-26 03:24:27</td>\n",
       "      <td>2018-07-26 14:31:00</td>\n",
       "      <td>2018-08-07 15:27:45</td>\n",
       "      <td>2018-08-13</td>\n",
       "    </tr>\n",
       "    <tr>\n",
       "      <th>2</th>\n",
       "      <td>47770eb9100c2d0c44946d9cf07ec65d</td>\n",
       "      <td>41ce2a54c0b03bf3443c3d931a367089</td>\n",
       "      <td>delivered</td>\n",
       "      <td>2018-08-08 08:55:23</td>\n",
       "      <td>2018-08-08 13:50:00</td>\n",
       "      <td>2018-08-17 18:06:29</td>\n",
       "      <td>2018-09-04</td>\n",
       "    </tr>\n",
       "    <tr>\n",
       "      <th>3</th>\n",
       "      <td>949d5b44dbf5de918fe9c16f97b45f8a</td>\n",
       "      <td>f88197465ea7920adcdbec7375364d82</td>\n",
       "      <td>delivered</td>\n",
       "      <td>2017-11-18 19:45:59</td>\n",
       "      <td>2017-11-22 13:39:59</td>\n",
       "      <td>2017-12-02 00:28:42</td>\n",
       "      <td>2017-12-15</td>\n",
       "    </tr>\n",
       "    <tr>\n",
       "      <th>4</th>\n",
       "      <td>ad21c59c0840e6cb83a9ceb5573f8159</td>\n",
       "      <td>8ab97904e6daea8866dbdbc4fb7aad2c</td>\n",
       "      <td>delivered</td>\n",
       "      <td>2018-02-13 22:20:29</td>\n",
       "      <td>2018-02-14 19:46:34</td>\n",
       "      <td>2018-02-16 18:17:02</td>\n",
       "      <td>2018-02-26</td>\n",
       "    </tr>\n",
       "  </tbody>\n",
       "</table>\n",
       "</div>"
      ],
      "text/plain": [
       "                           order_id                       customer_id  \\\n",
       "0  e481f51cbdc54678b7cc49136f2d6af7  9ef432eb6251297304e76186b10a928d   \n",
       "1  53cdb2fc8bc7dce0b6741e2150273451  b0830fb4747a6c6d20dea0b8c802d7ef   \n",
       "2  47770eb9100c2d0c44946d9cf07ec65d  41ce2a54c0b03bf3443c3d931a367089   \n",
       "3  949d5b44dbf5de918fe9c16f97b45f8a  f88197465ea7920adcdbec7375364d82   \n",
       "4  ad21c59c0840e6cb83a9ceb5573f8159  8ab97904e6daea8866dbdbc4fb7aad2c   \n",
       "\n",
       "  order_status   order_approved_at order_received_by_local_operator_date  \\\n",
       "0    delivered 2017-10-02 11:07:15                   2017-10-04 19:55:00   \n",
       "1    delivered 2018-07-26 03:24:27                   2018-07-26 14:31:00   \n",
       "2    delivered 2018-08-08 08:55:23                   2018-08-08 13:50:00   \n",
       "3    delivered 2017-11-18 19:45:59                   2017-11-22 13:39:59   \n",
       "4    delivered 2018-02-13 22:20:29                   2018-02-14 19:46:34   \n",
       "\n",
       "  order_delivered_to_customer_date order_delivery_promise_date  \n",
       "0              2017-10-10 21:25:13                  2017-10-18  \n",
       "1              2018-08-07 15:27:45                  2018-08-13  \n",
       "2              2018-08-17 18:06:29                  2018-09-04  \n",
       "3              2017-12-02 00:28:42                  2017-12-15  \n",
       "4              2018-02-16 18:17:02                  2018-02-26  "
      ]
     },
     "execution_count": 3,
     "metadata": {},
     "output_type": "execute_result"
    }
   ],
   "source": [
    "order.head()"
   ]
  },
  {
   "cell_type": "code",
   "execution_count": 4,
   "metadata": {},
   "outputs": [
    {
     "data": {
      "text/html": [
       "<div>\n",
       "<style scoped>\n",
       "    .dataframe tbody tr th:only-of-type {\n",
       "        vertical-align: middle;\n",
       "    }\n",
       "\n",
       "    .dataframe tbody tr th {\n",
       "        vertical-align: top;\n",
       "    }\n",
       "\n",
       "    .dataframe thead th {\n",
       "        text-align: right;\n",
       "    }\n",
       "</style>\n",
       "<table border=\"1\" class=\"dataframe\">\n",
       "  <thead>\n",
       "    <tr style=\"text-align: right;\">\n",
       "      <th></th>\n",
       "      <th>customer_id</th>\n",
       "      <th>customer_unique_id</th>\n",
       "      <th>customer_zip_code_prefix</th>\n",
       "      <th>customer_municipality</th>\n",
       "      <th>customer_state</th>\n",
       "    </tr>\n",
       "  </thead>\n",
       "  <tbody>\n",
       "    <tr>\n",
       "      <th>0</th>\n",
       "      <td>06b8999e2fba1a1fbc88172c00ba8bc7</td>\n",
       "      <td>861eff4711a542e4b93843c6dd7febb0</td>\n",
       "      <td>14409</td>\n",
       "      <td>franca</td>\n",
       "      <td>SP</td>\n",
       "    </tr>\n",
       "    <tr>\n",
       "      <th>1</th>\n",
       "      <td>18955e83d337fd6b2def6b18a428ac77</td>\n",
       "      <td>290c77bc529b7ac935b93aa66c333dc3</td>\n",
       "      <td>9790</td>\n",
       "      <td>sao bernardo do campo</td>\n",
       "      <td>SP</td>\n",
       "    </tr>\n",
       "    <tr>\n",
       "      <th>2</th>\n",
       "      <td>4e7b3e00288586ebd08712fdd0374a03</td>\n",
       "      <td>060e732b5b29e8181a18229c7b0b2b5e</td>\n",
       "      <td>1151</td>\n",
       "      <td>sao paulo</td>\n",
       "      <td>SP</td>\n",
       "    </tr>\n",
       "    <tr>\n",
       "      <th>3</th>\n",
       "      <td>b2b6027bc5c5109e529d4dc6358b12c3</td>\n",
       "      <td>259dac757896d24d7702b9acbbff3f3c</td>\n",
       "      <td>8775</td>\n",
       "      <td>mogi das cruzes</td>\n",
       "      <td>SP</td>\n",
       "    </tr>\n",
       "    <tr>\n",
       "      <th>4</th>\n",
       "      <td>4f2d8ab171c80ec8364f7c12e35b23ad</td>\n",
       "      <td>345ecd01c38d18a9036ed96c73b8d066</td>\n",
       "      <td>13056</td>\n",
       "      <td>campinas</td>\n",
       "      <td>SP</td>\n",
       "    </tr>\n",
       "  </tbody>\n",
       "</table>\n",
       "</div>"
      ],
      "text/plain": [
       "                        customer_id                customer_unique_id  \\\n",
       "0  06b8999e2fba1a1fbc88172c00ba8bc7  861eff4711a542e4b93843c6dd7febb0   \n",
       "1  18955e83d337fd6b2def6b18a428ac77  290c77bc529b7ac935b93aa66c333dc3   \n",
       "2  4e7b3e00288586ebd08712fdd0374a03  060e732b5b29e8181a18229c7b0b2b5e   \n",
       "3  b2b6027bc5c5109e529d4dc6358b12c3  259dac757896d24d7702b9acbbff3f3c   \n",
       "4  4f2d8ab171c80ec8364f7c12e35b23ad  345ecd01c38d18a9036ed96c73b8d066   \n",
       "\n",
       "   customer_zip_code_prefix  customer_municipality customer_state  \n",
       "0                     14409                 franca             SP  \n",
       "1                      9790  sao bernardo do campo             SP  \n",
       "2                      1151              sao paulo             SP  \n",
       "3                      8775        mogi das cruzes             SP  \n",
       "4                     13056               campinas             SP  "
      ]
     },
     "execution_count": 4,
     "metadata": {},
     "output_type": "execute_result"
    }
   ],
   "source": [
    "customer.head()"
   ]
  },
  {
   "cell_type": "markdown",
   "metadata": {},
   "source": [
    "-----"
   ]
  },
  {
   "cell_type": "markdown",
   "metadata": {},
   "source": [
    "## Desarrollo de consignas"
   ]
  },
  {
   "cell_type": "markdown",
   "metadata": {},
   "source": [
    "## 1) ¿Cuál es el tiempo promedio de entrega para todas las órdenes?  "
   ]
  },
  {
   "cell_type": "code",
   "execution_count": 5,
   "metadata": {},
   "outputs": [
    {
     "name": "stdout",
     "output_type": "stream",
     "text": [
      "El tiempo promedio de una entrega es de 12 días\n"
     ]
    }
   ],
   "source": [
    "df_promedio = pd.DataFrame({ 'fecha_entrega': order['order_delivered_to_customer_date'],\n",
    "'fecha_aprobacion': order['order_approved_at'] })\n",
    "\n",
    "df_promedio['duracion'] = df_promedio['fecha_entrega'] - df_promedio['fecha_aprobacion']\n",
    "\n",
    "df_promedio['duracion'] = df_promedio['duracion'].dt.days\n",
    "\n",
    "df_promedio = df_promedio.dropna(subset=['duracion'])\n",
    "\n",
    "df_promedio['duracion'] = df_promedio['duracion'].astype(int)\n",
    "\n",
    "print(f\"El tiempo promedio de una entrega es de {round(df_promedio['duracion'].mean())} días\")\n"
   ]
  },
  {
   "cell_type": "markdown",
   "metadata": {},
   "source": [
    "Se creó un nuevo DataFrame tomando dos columnas ('order_delivered_to_customer_date' y 'order_approved_at') del DataFrame de órdenes. Luego, se creó una nueva columna ('Duración') que resulta de la resta entre la fecha de entrega y la fecha de aprobación.\n",
    "\n",
    "Esta columna inicialmente mostraba valores con horas, minutos y segundos, por lo que se decidió convertir estos valores al total de días que representaban. Se eliminaron los valores nulos, que representan el 2,84% del total, ya que no es útil tener valores a los que se les pueda restar nada, dado que nunca fueron entregados. Luego de convertir la columna a tipos de datos enteros para una mejor legibilidad, se calculó el promedio de dicha columna, resultando en 11,64 días, lo que se podría redondear a 12 días para simplificar el trabajo con este número."
   ]
  },
  {
   "cell_type": "markdown",
   "metadata": {},
   "source": [
    "**Respuesta: el tiempo promedio de entrega es de 12 días.**"
   ]
  },
  {
   "cell_type": "markdown",
   "metadata": {},
   "source": [
    "## 2) Calcula los percentiles 75 y 90 del tiempo de entrega e interpreta los resultados. ¿Crees que es relevante incluir percentiles junto con el promedio en este análisis? ¿Por qué o por qué no?"
   ]
  },
  {
   "cell_type": "markdown",
   "metadata": {},
   "source": [
    "Se realiza una revisión de los tres percentiles más comunes con la función describe de pandas, la cual nos permite ver información rápidamente sobre la columna."
   ]
  },
  {
   "cell_type": "code",
   "execution_count": 6,
   "metadata": {},
   "outputs": [
    {
     "data": {
      "text/plain": [
       "count    96462.000000\n",
       "mean        11.642968\n",
       "std          9.520747\n",
       "min         -7.000000\n",
       "25%          6.000000\n",
       "50%          9.000000\n",
       "75%         15.000000\n",
       "max        208.000000\n",
       "Name: duracion, dtype: float64"
      ]
     },
     "execution_count": 6,
     "metadata": {},
     "output_type": "execute_result"
    }
   ],
   "source": [
    "df_promedio['duracion'].describe()"
   ]
  },
  {
   "cell_type": "code",
   "execution_count": 7,
   "metadata": {},
   "outputs": [
    {
     "name": "stdout",
     "output_type": "stream",
     "text": [
      "El percentil de 75 de tiempo de entrega es: 15 días\n",
      "El percentil de 90 de tiempo de entrega es: 22 días\n"
     ]
    }
   ],
   "source": [
    "print(f\"El percentil de 75 de tiempo de entrega es: {round(df_promedio['duracion'].quantile(0.75))} días\")\n",
    "print(f\"El percentil de 90 de tiempo de entrega es: {round(df_promedio['duracion'].quantile(0.90))} días\")"
   ]
  },
  {
   "cell_type": "markdown",
   "metadata": {},
   "source": [
    "**Interpretación**\n",
    "\n",
    "Luego de realizar el cálculo de los percentiles, se entiende que:\n",
    "\n",
    "- La distribución de nuestros datos está sesgada hacia la derecha dado que, en una distribución normal, los valores de los percentiles suelen estar cerca de la mediana (9 días). Este no es el caso aquí, ya que nuestro promedio (12 días) está por encima de la mediana. Al comparar el promedio con los percentiles 75 (15 días) y 90 (22 días), observamos una diferencia significativa entre el promedio y estos percentiles superiores. Esta diferencia indica que hay una proporción considerable de entregas que están tomando mucho más tiempo de lo esperado, lo cual es característico de una distribución sesgada hacia la derecha.\n",
    "\n",
    "- El 75% de los valores se encuentran por debajo o son iguales a 15 días de tiempo de entrega, lo que nos indica que lo más \"común\" en las entregas es que demoren como máximo 15 días.\n",
    "\n",
    "- El 90% de los valores se encuentran por debajo o son iguales a 22 días de tiempo de entrega. Este percentil nos indica que tenemos un 10% de entregas que están demorando mucho más de lo habitual."
   ]
  },
  {
   "cell_type": "markdown",
   "metadata": {},
   "source": [
    "Se realizará un gráfico de tipo histograma para confirmar el sesgo mencionado anteriormente. Esto hará que sea más sencillo entender por qué se dice que hay valores atípicos en los tiempos de entrega."
   ]
  },
  {
   "cell_type": "code",
   "execution_count": 8,
   "metadata": {},
   "outputs": [
    {
     "data": {
      "image/png": "[encoded data removed]",
      "text/plain": [
       "<Figure size 1000x600 with 1 Axes>"
      ]
     },
     "metadata": {},
     "output_type": "display_data"
    }
   ],
   "source": [
    "plt.figure(figsize=(10, 6))\n",
    "sns.histplot(df_promedio['duracion'], kde=True, stat=\"density\", bins=30, color='blue')\n",
    "\n",
    "plt.title(\"Distribución del Tiempo de Entrega\")\n",
    "plt.xlabel('Duración (días)')\n",
    "plt.ylabel('Densidad')\n",
    "plt.show()"
   ]
  },
  {
   "cell_type": "markdown",
   "metadata": {},
   "source": [
    "**Respuesta:** En mi opinión, es útil y relevante incluir percentiles, ya que estos están mínimamente sesgados por valores atípicos. Esto nos permite tener una visión más real de los datos y ver cuántos pedidos tienen más o menos demoras de lo que se espera, dado que el promedio está sesgado por valores atípicos; es por eso que se considera útil incluirlos.\n",
    "\n",
    "Además, los percentiles 90 y 75 nos ofrecen información específica sobre cómo se distribuyen los datos en diferentes puntos de la distribución. El percentil 75 nos indica el punto en el que el 75% de los datos están por debajo o son iguales a ese valor, lo que nos da una idea clara de cuántos pedidos se entregan dentro de un cierto límite de tiempo. \n",
    "\n",
    "Por otro lado, el percentil 90 nos muestra cuántos pedidos pueden experimentar demoras y cuánto más tiene en demora ese 10% restante, lo que nos permite identificar áreas en las que se pueden enfocar esfuerzos para mejorar la eficiencia del proceso de entrega."
   ]
  },
  {
   "cell_type": "code",
   "execution_count": 15,
   "metadata": {},
   "outputs": [],
   "source": [
    "df_promedio.to_excel('../Datasets/df_percentiles.xlsx',index=False)"
   ]
  },
  {
   "cell_type": "markdown",
   "metadata": {},
   "source": [
    "## 3) Propón al menos un indicador para medir el rendimiento de entrega de las órdenes, dado el compromiso hecho con el cliente.\n"
   ]
  },
  {
   "cell_type": "code",
   "execution_count": 9,
   "metadata": {},
   "outputs": [
    {
     "name": "stdout",
     "output_type": "stream",
     "text": [
      "Cantidad de ordenes que fueron entregadas a tiempo: 89927\n",
      "Cantidad de ordenes que NO fueron entregadas a tiempo: 6535\n",
      "Indicador de cumplimiento de entrega: 93.23\n"
     ]
    }
   ],
   "source": [
    "df_kpi = pd.DataFrame({ 'fecha_entrega': order['order_delivered_to_customer_date'],\n",
    "'fecha_prometida': order['order_delivery_promise_date'] })\n",
    "\n",
    "df_kpi['tiempo_entrega'] = df_kpi['fecha_entrega'] - df_kpi['fecha_prometida'] \n",
    "df_kpi['tiempo_entrega'] = df_kpi['tiempo_entrega'].dt.days\n",
    "df_kpi = df_kpi.dropna(subset=['tiempo_entrega'])\n",
    "\n",
    "df_kpi['tiempo_entrega'] = df_kpi['tiempo_entrega'].astype(int)\n",
    "\n",
    "df_kpi['Entregado a tiempo'] = df_kpi['tiempo_entrega'] <= 0\n",
    "\n",
    "A_tiempo = df_kpi['Entregado a tiempo'].value_counts().get(True)\n",
    "Retraso = df_kpi['Entregado a tiempo'].value_counts().get(False)\n",
    "\n",
    "indicador = (A_tiempo/len(df_kpi['Entregado a tiempo'])*100)\n",
    "\n",
    "print(f\"Cantidad de ordenes que fueron entregadas a tiempo: {A_tiempo}\")\n",
    "print(f\"Cantidad de ordenes que NO fueron entregadas a tiempo: {Retraso}\")\n",
    "print(f\"Indicador de cumplimiento de entrega: {round(indicador,2)}\")"
   ]
  },
  {
   "cell_type": "markdown",
   "metadata": {},
   "source": [
    "**Respuesta:** Se creó el KPI Cumplimiento de Entrega, cuya fórmula es:   \n",
    "\n",
    "                        (Nro. de ordenes entregadas a tiempo / Total de ordenes) *100                                           \n",
    "\n",
    "Este KPI se planteó de la siguiente manera: se tomaron dos columnas que nos podían dar un valor en tiempo de si se entregaba o no en tiempo y forma la orden.\n",
    "\n",
    "Entonces, se procedió a restar ambas columnas: Fecha_entrega - Fecha_prometida. En base al resultado, se creó otra columna dentro del DataFrame para que si el valor era verdadero, es decir, si se había entregado dentro del tiempo pactado, o falso para el caso en que fuera fuera de este tiempo pactado. Se contaron los valores verdaderos y se los dividió por el total de registros de esa columna, para luego multiplicarlo por 100 y obtener el porcentaje del indicador. Así cuantificamos los cumplimientos en tiempo de entrega."
   ]
  },
  {
   "cell_type": "markdown",
   "metadata": {},
   "source": [
    "## 4) Basándote en el punto anterior, ¿cuáles son los tres estados con el mejor rendimiento de entrega? "
   ]
  },
  {
   "cell_type": "markdown",
   "metadata": {},
   "source": [
    "Se unirán los DataFrames a través del identificador de cliente (customer_id) que tenemos, para poder extraer en qué estados son mejores los cumplimientos de entrega."
   ]
  },
  {
   "cell_type": "code",
   "execution_count": 10,
   "metadata": {},
   "outputs": [
    {
     "data": {
      "text/html": [
       "<div>\n",
       "<style scoped>\n",
       "    .dataframe tbody tr th:only-of-type {\n",
       "        vertical-align: middle;\n",
       "    }\n",
       "\n",
       "    .dataframe tbody tr th {\n",
       "        vertical-align: top;\n",
       "    }\n",
       "\n",
       "    .dataframe thead th {\n",
       "        text-align: right;\n",
       "    }\n",
       "</style>\n",
       "<table border=\"1\" class=\"dataframe\">\n",
       "  <thead>\n",
       "    <tr style=\"text-align: right;\">\n",
       "      <th></th>\n",
       "      <th>customer_id</th>\n",
       "      <th>customer_unique_id</th>\n",
       "      <th>customer_zip_code_prefix</th>\n",
       "      <th>customer_municipality</th>\n",
       "      <th>customer_state</th>\n",
       "      <th>order_id</th>\n",
       "      <th>order_status</th>\n",
       "      <th>order_approved_at</th>\n",
       "      <th>order_received_by_local_operator_date</th>\n",
       "      <th>order_delivered_to_customer_date</th>\n",
       "      <th>order_delivery_promise_date</th>\n",
       "    </tr>\n",
       "  </thead>\n",
       "  <tbody>\n",
       "    <tr>\n",
       "      <th>0</th>\n",
       "      <td>9ef432eb6251297304e76186b10a928d</td>\n",
       "      <td>7c396fd4830fd04220f754e42b4e5bff</td>\n",
       "      <td>3149.0</td>\n",
       "      <td>sao paulo</td>\n",
       "      <td>SP</td>\n",
       "      <td>e481f51cbdc54678b7cc49136f2d6af7</td>\n",
       "      <td>delivered</td>\n",
       "      <td>2017-10-02 11:07:15</td>\n",
       "      <td>2017-10-04 19:55:00</td>\n",
       "      <td>2017-10-10 21:25:13</td>\n",
       "      <td>2017-10-18</td>\n",
       "    </tr>\n",
       "    <tr>\n",
       "      <th>1</th>\n",
       "      <td>b0830fb4747a6c6d20dea0b8c802d7ef</td>\n",
       "      <td>af07308b275d755c9edb36a90c618231</td>\n",
       "      <td>47813.0</td>\n",
       "      <td>barreiras</td>\n",
       "      <td>BA</td>\n",
       "      <td>53cdb2fc8bc7dce0b6741e2150273451</td>\n",
       "      <td>delivered</td>\n",
       "      <td>2018-07-26 03:24:27</td>\n",
       "      <td>2018-07-26 14:31:00</td>\n",
       "      <td>2018-08-07 15:27:45</td>\n",
       "      <td>2018-08-13</td>\n",
       "    </tr>\n",
       "    <tr>\n",
       "      <th>2</th>\n",
       "      <td>41ce2a54c0b03bf3443c3d931a367089</td>\n",
       "      <td>3a653a41f6f9fc3d2a113cf8398680e8</td>\n",
       "      <td>75265.0</td>\n",
       "      <td>vianopolis</td>\n",
       "      <td>GO</td>\n",
       "      <td>47770eb9100c2d0c44946d9cf07ec65d</td>\n",
       "      <td>delivered</td>\n",
       "      <td>2018-08-08 08:55:23</td>\n",
       "      <td>2018-08-08 13:50:00</td>\n",
       "      <td>2018-08-17 18:06:29</td>\n",
       "      <td>2018-09-04</td>\n",
       "    </tr>\n",
       "    <tr>\n",
       "      <th>3</th>\n",
       "      <td>f88197465ea7920adcdbec7375364d82</td>\n",
       "      <td>7c142cf63193a1473d2e66489a9ae977</td>\n",
       "      <td>59296.0</td>\n",
       "      <td>sao goncalo do amarante</td>\n",
       "      <td>RN</td>\n",
       "      <td>949d5b44dbf5de918fe9c16f97b45f8a</td>\n",
       "      <td>delivered</td>\n",
       "      <td>2017-11-18 19:45:59</td>\n",
       "      <td>2017-11-22 13:39:59</td>\n",
       "      <td>2017-12-02 00:28:42</td>\n",
       "      <td>2017-12-15</td>\n",
       "    </tr>\n",
       "    <tr>\n",
       "      <th>4</th>\n",
       "      <td>8ab97904e6daea8866dbdbc4fb7aad2c</td>\n",
       "      <td>72632f0f9dd73dfee390c9b22eb56dd6</td>\n",
       "      <td>9195.0</td>\n",
       "      <td>santo andre</td>\n",
       "      <td>SP</td>\n",
       "      <td>ad21c59c0840e6cb83a9ceb5573f8159</td>\n",
       "      <td>delivered</td>\n",
       "      <td>2018-02-13 22:20:29</td>\n",
       "      <td>2018-02-14 19:46:34</td>\n",
       "      <td>2018-02-16 18:17:02</td>\n",
       "      <td>2018-02-26</td>\n",
       "    </tr>\n",
       "  </tbody>\n",
       "</table>\n",
       "</div>"
      ],
      "text/plain": [
       "                        customer_id                customer_unique_id  \\\n",
       "0  9ef432eb6251297304e76186b10a928d  7c396fd4830fd04220f754e42b4e5bff   \n",
       "1  b0830fb4747a6c6d20dea0b8c802d7ef  af07308b275d755c9edb36a90c618231   \n",
       "2  41ce2a54c0b03bf3443c3d931a367089  3a653a41f6f9fc3d2a113cf8398680e8   \n",
       "3  f88197465ea7920adcdbec7375364d82  7c142cf63193a1473d2e66489a9ae977   \n",
       "4  8ab97904e6daea8866dbdbc4fb7aad2c  72632f0f9dd73dfee390c9b22eb56dd6   \n",
       "\n",
       "   customer_zip_code_prefix    customer_municipality customer_state  \\\n",
       "0                    3149.0                sao paulo             SP   \n",
       "1                   47813.0                barreiras             BA   \n",
       "2                   75265.0               vianopolis             GO   \n",
       "3                   59296.0  sao goncalo do amarante             RN   \n",
       "4                    9195.0              santo andre             SP   \n",
       "\n",
       "                           order_id order_status   order_approved_at  \\\n",
       "0  e481f51cbdc54678b7cc49136f2d6af7    delivered 2017-10-02 11:07:15   \n",
       "1  53cdb2fc8bc7dce0b6741e2150273451    delivered 2018-07-26 03:24:27   \n",
       "2  47770eb9100c2d0c44946d9cf07ec65d    delivered 2018-08-08 08:55:23   \n",
       "3  949d5b44dbf5de918fe9c16f97b45f8a    delivered 2017-11-18 19:45:59   \n",
       "4  ad21c59c0840e6cb83a9ceb5573f8159    delivered 2018-02-13 22:20:29   \n",
       "\n",
       "  order_received_by_local_operator_date order_delivered_to_customer_date  \\\n",
       "0                   2017-10-04 19:55:00              2017-10-10 21:25:13   \n",
       "1                   2018-07-26 14:31:00              2018-08-07 15:27:45   \n",
       "2                   2018-08-08 13:50:00              2018-08-17 18:06:29   \n",
       "3                   2017-11-22 13:39:59              2017-12-02 00:28:42   \n",
       "4                   2018-02-14 19:46:34              2018-02-16 18:17:02   \n",
       "\n",
       "  order_delivery_promise_date  \n",
       "0                  2017-10-18  \n",
       "1                  2018-08-13  \n",
       "2                  2018-09-04  \n",
       "3                  2017-12-15  \n",
       "4                  2018-02-26  "
      ]
     },
     "execution_count": 10,
     "metadata": {},
     "output_type": "execute_result"
    }
   ],
   "source": [
    "df_unido = pd.merge(customer, order, on='customer_id', how='right')\n",
    "df_unido.head()"
   ]
  },
  {
   "cell_type": "markdown",
   "metadata": {},
   "source": [
    "Se realizó un procedimiento similar al anterior, en el que se vuelve a calcular si se cumplió con el tiempo pactado de entrega o no, pero con toda la información en un solo dataset, lo cual nos permite una mejor manipulación de los datos."
   ]
  },
  {
   "cell_type": "code",
   "execution_count": 11,
   "metadata": {},
   "outputs": [],
   "source": [
    "df_unido['tiempo_entrega'] = df_unido['order_delivered_to_customer_date'] - df_unido['order_delivery_promise_date'] \n",
    "df_unido['tiempo_entrega'] = df_unido['tiempo_entrega'].dt.days\n",
    "df_unido = df_unido.dropna(subset=['tiempo_entrega'])\n",
    "\n",
    "df_unido['tiempo_entrega'] = df_unido['tiempo_entrega'].astype(int)\n",
    "df_unido['Entregado a tiempo'] = df_unido['tiempo_entrega'] <= 0"
   ]
  },
  {
   "cell_type": "markdown",
   "metadata": {},
   "source": [
    "Revisamos si se generaron nulos, dado que previamente se realizó un 'right join', lo que significa que si no teníamos clientes que hayan realizado órdenes, fueron eliminados del DataFrame para quedarnos solo con aquellos de los que tenemos información sobre sus estados."
   ]
  },
  {
   "cell_type": "code",
   "execution_count": 12,
   "metadata": {},
   "outputs": [
    {
     "data": {
      "text/html": [
       "<div>\n",
       "<style scoped>\n",
       "    .dataframe tbody tr th:only-of-type {\n",
       "        vertical-align: middle;\n",
       "    }\n",
       "\n",
       "    .dataframe tbody tr th {\n",
       "        vertical-align: top;\n",
       "    }\n",
       "\n",
       "    .dataframe thead th {\n",
       "        text-align: right;\n",
       "    }\n",
       "</style>\n",
       "<table border=\"1\" class=\"dataframe\">\n",
       "  <thead>\n",
       "    <tr style=\"text-align: right;\">\n",
       "      <th></th>\n",
       "      <th>Nombre</th>\n",
       "      <th>Tipos de Datos Únicos</th>\n",
       "      <th>% de Valores No Nulos</th>\n",
       "      <th>% de Valores Nulos</th>\n",
       "      <th>Cantidad de Valores Nulos</th>\n",
       "    </tr>\n",
       "  </thead>\n",
       "  <tbody>\n",
       "    <tr>\n",
       "      <th>0</th>\n",
       "      <td>customer_id</td>\n",
       "      <td>[&lt;class 'str'&gt;]</td>\n",
       "      <td>100.00</td>\n",
       "      <td>0.00</td>\n",
       "      <td>0</td>\n",
       "    </tr>\n",
       "    <tr>\n",
       "      <th>1</th>\n",
       "      <td>customer_unique_id</td>\n",
       "      <td>[&lt;class 'str'&gt;, &lt;class 'float'&gt;]</td>\n",
       "      <td>96.67</td>\n",
       "      <td>3.33</td>\n",
       "      <td>3215</td>\n",
       "    </tr>\n",
       "    <tr>\n",
       "      <th>2</th>\n",
       "      <td>customer_zip_code_prefix</td>\n",
       "      <td>[&lt;class 'float'&gt;]</td>\n",
       "      <td>96.67</td>\n",
       "      <td>3.33</td>\n",
       "      <td>3215</td>\n",
       "    </tr>\n",
       "    <tr>\n",
       "      <th>3</th>\n",
       "      <td>customer_municipality</td>\n",
       "      <td>[&lt;class 'str'&gt;, &lt;class 'float'&gt;]</td>\n",
       "      <td>96.67</td>\n",
       "      <td>3.33</td>\n",
       "      <td>3215</td>\n",
       "    </tr>\n",
       "    <tr>\n",
       "      <th>4</th>\n",
       "      <td>customer_state</td>\n",
       "      <td>[&lt;class 'str'&gt;, &lt;class 'float'&gt;]</td>\n",
       "      <td>96.67</td>\n",
       "      <td>3.33</td>\n",
       "      <td>3215</td>\n",
       "    </tr>\n",
       "    <tr>\n",
       "      <th>5</th>\n",
       "      <td>order_id</td>\n",
       "      <td>[&lt;class 'str'&gt;]</td>\n",
       "      <td>100.00</td>\n",
       "      <td>0.00</td>\n",
       "      <td>0</td>\n",
       "    </tr>\n",
       "    <tr>\n",
       "      <th>6</th>\n",
       "      <td>order_status</td>\n",
       "      <td>[&lt;class 'str'&gt;]</td>\n",
       "      <td>100.00</td>\n",
       "      <td>0.00</td>\n",
       "      <td>0</td>\n",
       "    </tr>\n",
       "    <tr>\n",
       "      <th>7</th>\n",
       "      <td>order_approved_at</td>\n",
       "      <td>[&lt;class 'pandas._libs.tslibs.timestamps.Timest...</td>\n",
       "      <td>100.00</td>\n",
       "      <td>0.00</td>\n",
       "      <td>0</td>\n",
       "    </tr>\n",
       "    <tr>\n",
       "      <th>8</th>\n",
       "      <td>order_received_by_local_operator_date</td>\n",
       "      <td>[&lt;class 'pandas._libs.tslibs.timestamps.Timest...</td>\n",
       "      <td>100.00</td>\n",
       "      <td>0.00</td>\n",
       "      <td>1</td>\n",
       "    </tr>\n",
       "    <tr>\n",
       "      <th>9</th>\n",
       "      <td>order_delivered_to_customer_date</td>\n",
       "      <td>[&lt;class 'pandas._libs.tslibs.timestamps.Timest...</td>\n",
       "      <td>100.00</td>\n",
       "      <td>0.00</td>\n",
       "      <td>0</td>\n",
       "    </tr>\n",
       "    <tr>\n",
       "      <th>10</th>\n",
       "      <td>order_delivery_promise_date</td>\n",
       "      <td>[&lt;class 'pandas._libs.tslibs.timestamps.Timest...</td>\n",
       "      <td>100.00</td>\n",
       "      <td>0.00</td>\n",
       "      <td>0</td>\n",
       "    </tr>\n",
       "    <tr>\n",
       "      <th>11</th>\n",
       "      <td>tiempo_entrega</td>\n",
       "      <td>[&lt;class 'int'&gt;]</td>\n",
       "      <td>100.00</td>\n",
       "      <td>0.00</td>\n",
       "      <td>0</td>\n",
       "    </tr>\n",
       "    <tr>\n",
       "      <th>12</th>\n",
       "      <td>Entregado a tiempo</td>\n",
       "      <td>[&lt;class 'bool'&gt;]</td>\n",
       "      <td>100.00</td>\n",
       "      <td>0.00</td>\n",
       "      <td>0</td>\n",
       "    </tr>\n",
       "  </tbody>\n",
       "</table>\n",
       "</div>"
      ],
      "text/plain": [
       "                                   Nombre  \\\n",
       "0                             customer_id   \n",
       "1                      customer_unique_id   \n",
       "2                customer_zip_code_prefix   \n",
       "3                   customer_municipality   \n",
       "4                          customer_state   \n",
       "5                                order_id   \n",
       "6                            order_status   \n",
       "7                       order_approved_at   \n",
       "8   order_received_by_local_operator_date   \n",
       "9        order_delivered_to_customer_date   \n",
       "10            order_delivery_promise_date   \n",
       "11                         tiempo_entrega   \n",
       "12                     Entregado a tiempo   \n",
       "\n",
       "                                Tipos de Datos Únicos  % de Valores No Nulos  \\\n",
       "0                                     [<class 'str'>]                 100.00   \n",
       "1                    [<class 'str'>, <class 'float'>]                  96.67   \n",
       "2                                   [<class 'float'>]                  96.67   \n",
       "3                    [<class 'str'>, <class 'float'>]                  96.67   \n",
       "4                    [<class 'str'>, <class 'float'>]                  96.67   \n",
       "5                                     [<class 'str'>]                 100.00   \n",
       "6                                     [<class 'str'>]                 100.00   \n",
       "7   [<class 'pandas._libs.tslibs.timestamps.Timest...                 100.00   \n",
       "8   [<class 'pandas._libs.tslibs.timestamps.Timest...                 100.00   \n",
       "9   [<class 'pandas._libs.tslibs.timestamps.Timest...                 100.00   \n",
       "10  [<class 'pandas._libs.tslibs.timestamps.Timest...                 100.00   \n",
       "11                                    [<class 'int'>]                 100.00   \n",
       "12                                   [<class 'bool'>]                 100.00   \n",
       "\n",
       "    % de Valores Nulos  Cantidad de Valores Nulos  \n",
       "0                 0.00                          0  \n",
       "1                 3.33                       3215  \n",
       "2                 3.33                       3215  \n",
       "3                 3.33                       3215  \n",
       "4                 3.33                       3215  \n",
       "5                 0.00                          0  \n",
       "6                 0.00                          0  \n",
       "7                 0.00                          0  \n",
       "8                 0.00                          1  \n",
       "9                 0.00                          0  \n",
       "10                0.00                          0  \n",
       "11                0.00                          0  \n",
       "12                0.00                          0  "
      ]
     },
     "execution_count": 12,
     "metadata": {},
     "output_type": "execute_result"
    }
   ],
   "source": [
    "Funciones.analizar_datos(df_unido)"
   ]
  },
  {
   "cell_type": "markdown",
   "metadata": {},
   "source": [
    "Se eliminaron los valores nulos y ahora se verifica que la información esté lista para exportar."
   ]
  },
  {
   "cell_type": "code",
   "execution_count": 13,
   "metadata": {},
   "outputs": [
    {
     "data": {
      "text/html": [
       "<div>\n",
       "<style scoped>\n",
       "    .dataframe tbody tr th:only-of-type {\n",
       "        vertical-align: middle;\n",
       "    }\n",
       "\n",
       "    .dataframe tbody tr th {\n",
       "        vertical-align: top;\n",
       "    }\n",
       "\n",
       "    .dataframe thead th {\n",
       "        text-align: right;\n",
       "    }\n",
       "</style>\n",
       "<table border=\"1\" class=\"dataframe\">\n",
       "  <thead>\n",
       "    <tr style=\"text-align: right;\">\n",
       "      <th></th>\n",
       "      <th>Nombre</th>\n",
       "      <th>Tipos de Datos Únicos</th>\n",
       "      <th>% de Valores No Nulos</th>\n",
       "      <th>% de Valores Nulos</th>\n",
       "      <th>Cantidad de Valores Nulos</th>\n",
       "    </tr>\n",
       "  </thead>\n",
       "  <tbody>\n",
       "    <tr>\n",
       "      <th>0</th>\n",
       "      <td>customer_id</td>\n",
       "      <td>[&lt;class 'str'&gt;]</td>\n",
       "      <td>100.0</td>\n",
       "      <td>0.0</td>\n",
       "      <td>0</td>\n",
       "    </tr>\n",
       "    <tr>\n",
       "      <th>1</th>\n",
       "      <td>customer_unique_id</td>\n",
       "      <td>[&lt;class 'str'&gt;]</td>\n",
       "      <td>100.0</td>\n",
       "      <td>0.0</td>\n",
       "      <td>0</td>\n",
       "    </tr>\n",
       "    <tr>\n",
       "      <th>2</th>\n",
       "      <td>customer_zip_code_prefix</td>\n",
       "      <td>[&lt;class 'float'&gt;]</td>\n",
       "      <td>100.0</td>\n",
       "      <td>0.0</td>\n",
       "      <td>0</td>\n",
       "    </tr>\n",
       "    <tr>\n",
       "      <th>3</th>\n",
       "      <td>customer_municipality</td>\n",
       "      <td>[&lt;class 'str'&gt;]</td>\n",
       "      <td>100.0</td>\n",
       "      <td>0.0</td>\n",
       "      <td>0</td>\n",
       "    </tr>\n",
       "    <tr>\n",
       "      <th>4</th>\n",
       "      <td>customer_state</td>\n",
       "      <td>[&lt;class 'str'&gt;]</td>\n",
       "      <td>100.0</td>\n",
       "      <td>0.0</td>\n",
       "      <td>0</td>\n",
       "    </tr>\n",
       "    <tr>\n",
       "      <th>5</th>\n",
       "      <td>order_id</td>\n",
       "      <td>[&lt;class 'str'&gt;]</td>\n",
       "      <td>100.0</td>\n",
       "      <td>0.0</td>\n",
       "      <td>0</td>\n",
       "    </tr>\n",
       "    <tr>\n",
       "      <th>6</th>\n",
       "      <td>order_status</td>\n",
       "      <td>[&lt;class 'str'&gt;]</td>\n",
       "      <td>100.0</td>\n",
       "      <td>0.0</td>\n",
       "      <td>0</td>\n",
       "    </tr>\n",
       "    <tr>\n",
       "      <th>7</th>\n",
       "      <td>order_approved_at</td>\n",
       "      <td>[&lt;class 'pandas._libs.tslibs.timestamps.Timest...</td>\n",
       "      <td>100.0</td>\n",
       "      <td>0.0</td>\n",
       "      <td>0</td>\n",
       "    </tr>\n",
       "    <tr>\n",
       "      <th>8</th>\n",
       "      <td>order_received_by_local_operator_date</td>\n",
       "      <td>[&lt;class 'pandas._libs.tslibs.timestamps.Timest...</td>\n",
       "      <td>100.0</td>\n",
       "      <td>0.0</td>\n",
       "      <td>1</td>\n",
       "    </tr>\n",
       "    <tr>\n",
       "      <th>9</th>\n",
       "      <td>order_delivered_to_customer_date</td>\n",
       "      <td>[&lt;class 'pandas._libs.tslibs.timestamps.Timest...</td>\n",
       "      <td>100.0</td>\n",
       "      <td>0.0</td>\n",
       "      <td>0</td>\n",
       "    </tr>\n",
       "    <tr>\n",
       "      <th>10</th>\n",
       "      <td>order_delivery_promise_date</td>\n",
       "      <td>[&lt;class 'pandas._libs.tslibs.timestamps.Timest...</td>\n",
       "      <td>100.0</td>\n",
       "      <td>0.0</td>\n",
       "      <td>0</td>\n",
       "    </tr>\n",
       "    <tr>\n",
       "      <th>11</th>\n",
       "      <td>tiempo_entrega</td>\n",
       "      <td>[&lt;class 'int'&gt;]</td>\n",
       "      <td>100.0</td>\n",
       "      <td>0.0</td>\n",
       "      <td>0</td>\n",
       "    </tr>\n",
       "    <tr>\n",
       "      <th>12</th>\n",
       "      <td>Entregado a tiempo</td>\n",
       "      <td>[&lt;class 'bool'&gt;]</td>\n",
       "      <td>100.0</td>\n",
       "      <td>0.0</td>\n",
       "      <td>0</td>\n",
       "    </tr>\n",
       "  </tbody>\n",
       "</table>\n",
       "</div>"
      ],
      "text/plain": [
       "                                   Nombre  \\\n",
       "0                             customer_id   \n",
       "1                      customer_unique_id   \n",
       "2                customer_zip_code_prefix   \n",
       "3                   customer_municipality   \n",
       "4                          customer_state   \n",
       "5                                order_id   \n",
       "6                            order_status   \n",
       "7                       order_approved_at   \n",
       "8   order_received_by_local_operator_date   \n",
       "9        order_delivered_to_customer_date   \n",
       "10            order_delivery_promise_date   \n",
       "11                         tiempo_entrega   \n",
       "12                     Entregado a tiempo   \n",
       "\n",
       "                                Tipos de Datos Únicos  % de Valores No Nulos  \\\n",
       "0                                     [<class 'str'>]                  100.0   \n",
       "1                                     [<class 'str'>]                  100.0   \n",
       "2                                   [<class 'float'>]                  100.0   \n",
       "3                                     [<class 'str'>]                  100.0   \n",
       "4                                     [<class 'str'>]                  100.0   \n",
       "5                                     [<class 'str'>]                  100.0   \n",
       "6                                     [<class 'str'>]                  100.0   \n",
       "7   [<class 'pandas._libs.tslibs.timestamps.Timest...                  100.0   \n",
       "8   [<class 'pandas._libs.tslibs.timestamps.Timest...                  100.0   \n",
       "9   [<class 'pandas._libs.tslibs.timestamps.Timest...                  100.0   \n",
       "10  [<class 'pandas._libs.tslibs.timestamps.Timest...                  100.0   \n",
       "11                                    [<class 'int'>]                  100.0   \n",
       "12                                   [<class 'bool'>]                  100.0   \n",
       "\n",
       "    % de Valores Nulos  Cantidad de Valores Nulos  \n",
       "0                  0.0                          0  \n",
       "1                  0.0                          0  \n",
       "2                  0.0                          0  \n",
       "3                  0.0                          0  \n",
       "4                  0.0                          0  \n",
       "5                  0.0                          0  \n",
       "6                  0.0                          0  \n",
       "7                  0.0                          0  \n",
       "8                  0.0                          1  \n",
       "9                  0.0                          0  \n",
       "10                 0.0                          0  \n",
       "11                 0.0                          0  \n",
       "12                 0.0                          0  "
      ]
     },
     "execution_count": 13,
     "metadata": {},
     "output_type": "execute_result"
    }
   ],
   "source": [
    "df_unido_sin_nulos = df_unido.dropna(subset=['customer_unique_id', 'customer_zip_code_prefix', 'customer_municipality', 'customer_state'])\n",
    "Funciones.analizar_datos(df_unido_sin_nulos)"
   ]
  },
  {
   "cell_type": "markdown",
   "metadata": {},
   "source": [
    "Se prepararon los datos para poder ejecutar la respuesta en Tableau, teniendo en cuenta que es más sencillo de utilizar y obtener el valor de una visualización. Luego, exportamos el Excel con los datasets unidos."
   ]
  },
  {
   "cell_type": "code",
   "execution_count": 14,
   "metadata": {},
   "outputs": [],
   "source": [
    "df_unido_sin_nulos.to_excel('../Datasets/df_unido_sin_nulos.xlsx',index=False)"
   ]
  },
  {
   "cell_type": "markdown",
   "metadata": {},
   "source": [
    "Luego de realizar el grafico en tableau, lo pegaremos aqui para tener una vista completa de los ejercicios y los resultados.\n",
    "\n",
    "![imagen](../Imagenes/Tres_estados.png)"
   ]
  },
  {
   "cell_type": "markdown",
   "metadata": {},
   "source": [
    "## 5) ¿Identificas algún patrón geográfico en los retrasos de entrega? ¿Son estos patrones consistentes con el tiempo?"
   ]
  },
  {
   "cell_type": "markdown",
   "metadata": {},
   "source": [
    "A su vez, hemos creado otro gráfico del tipo mapa para poder visualizar cómo se comportan las demoras en los diferentes años y si obtenemos algún patrón.\n",
    "\n",
    "![imagen2](../Imagenes/Demoras_tiempo.png)"
   ]
  },
  {
   "cell_type": "markdown",
   "metadata": {},
   "source": [
    "A simple vista no podemos identificar cuáles son los estados con más demoras, así que creamos una tabla para una mejor visualización de los números.\n",
    "\n",
    "![imagen3](../Imagenes/tabla_estados.png)"
   ]
  },
  {
   "cell_type": "markdown",
   "metadata": {},
   "source": [
    "Rápidamente podemos observar que tenemos los mismos estados que teníamos antes en cuanto a quién era el que mejor poseía en cuanto a entregas. Esto se debe a que son los 3 estados con más pedidos generados: Minas Gerais, Rio de Janeiro y Sao Paulo. \n",
    "\n",
    "Lo que probablemente esté generando el problema es que estos 3 estados son los que más población tienen, lo que genera un tráfico intenso y sobrecarga la infraestructura en pedidos de bienes, lo que no permite cumplir con los tiempos de entrega comprometidos. Además, se producen cuellos de botella debido a la infraestructura.\n",
    "\n",
    "Se debería hacer un estudio más a fondo para lo cual se necesitaría más información al momento de plantear soluciones en este tema.\n",
    "\n",
    "**Respuesta:** Se puede ver un patrón de aumento en las demoras, el cual incluye los tres estados mencionados anteriormente: Minas Gerais, Rio de Janeiro y Sao Paulo, ubicados en el sudeste de Brasil, siendo unas de las áreas económicas más importantes del país.\n",
    "\n",
    "Esto se mantiene con el tiempo, en exactamente los mismos estados, como se puede ver en las imágenes.\n",
    "\n",
    "Para respaldar en cuanto a la cantidad de pedidos que realiza cada estado y su demora, vemos que se vuelve a cumplir lo mismo que antes. Esto se debe a que la gran mayoría de pedidos se realizan en esos tres estados. Adjunto una imagen del gráfico.\n",
    "\n",
    "En esta [URL](https://www.ambito.com/informacion-general/brasil-tiene-203-millones-habitantes-10-millones-menos-lo-estimado-segun-censo-n5756810) de una noticia se puede corroborar lo dicho anteriormente sobre los estados más poblados de Brasil.\n",
    "\n",
    "![imagen4](../Imagenes/Estados_ordens.png)"
   ]
  },
  {
   "cell_type": "markdown",
   "metadata": {},
   "source": [
    "## 6) ¿Qué iniciativas propones para mejorar los tiempos de entrega y el rendimiento? Clasifica estas iniciativas según la prioridad que les darías para su implementación y justifica."
   ]
  },
  {
   "cell_type": "markdown",
   "metadata": {},
   "source": [
    "1) Optimización de Rutas con IA:\n",
    "\n",
    "La tecnología para la optimización de rutas no es costosa y puede proporcionar una reducción en los tiempos de entrega y los costos operativos. Herramientas como GPS avanzados y aplicaciones de gestión de flotas pueden mejorar la eficiencia logística.\n",
    "\n",
    "Para implementarlo, se debe invertir en software de optimización de rutas accesible y capacitar al personal en su uso. Esto puede generar un retorno de inversión (ROI) significativo en términos de desgaste de vehículos, ahorro de combustible y tiempo de trabajo.\n",
    "\n",
    "2) Automatización de Procesos Clave:\n",
    "\n",
    "La automatización de procesos específicos dentro de los almacenes, como el empaque, etiquetado de envío o documentación, puede mejorar la eficiencia sin requerir una inversión grande.\n",
    "\n",
    "Para implementarlo, se debería invertir en herramientas de automatización accesibles, como escáneres de código de barras y sistemas de gestión de almacenes (WMS) para tener un seguimiento preciso de la ubicación de nuestros productos, y capacitar al personal para su uso.\n",
    "\n",
    "3) Diversificación de los Modos de Transporte:\n",
    "\n",
    "Utilizar múltiples modos de transporte puede aumentar la flexibilidad y reducir los tiempos de entrega. Es especialmente útil en áreas donde el tráfico es un problema importante. Sin embargo, esto funcionaría siempre que el producto tenga un tamaño relativamente mediano para ser entregado, por ejemplo, en motocicletas.\n",
    "\n",
    "Para implementarlo, se debería establecer relaciones con proveedores de servicios logísticos que ofrezcan opciones de transporte terrestre, aéreo y marítimo. Luego, se deben evaluar los costos y beneficios de cada modalidad y ajustar las estrategias de envío en consecuencia."
   ]
  }
 ],
 "metadata": {
  "kernelspec": {
   "display_name": "Python 3",
   "language": "python",
   "name": "python3"
  },
  "language_info": {
   "codemirror_mode": {
    "name": "ipython",
    "version": 3
   },
   "file_extension": ".py",
   "mimetype": "text/x-python",
   "name": "python",
   "nbconvert_exporter": "python",
   "pygments_lexer": "ipython3",
   "version": "3.11.4"
  }
 },
 "nbformat": 4,
 "nbformat_minor": 2
}
