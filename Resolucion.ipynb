{
 "cells": [
  {
   "cell_type": "markdown",
   "metadata": {},
   "source": [
    "# Resolución de Business Case - Jr Data Analyst"
   ]
  },
  {
   "cell_type": "markdown",
   "metadata": {},
   "source": [
    "1. ¿Cuál es el tiempo promedio de entrega para todas las órdenes?  \n",
    "\n",
    "2. Calcula los percentiles 75 y 90 del tiempo de entrega e interpreta los resultados. ¿Crees que es relevante incluir percentiles junto con el promedio en este análisis? ¿Por qué o por qué no?\n",
    "3. Propón al menos un indicador para medir el rendimiento de entrega de las órdenes, dado el compromiso hecho con el cliente.\n",
    "4. Basándote en el punto anterior, ¿cuáles son los tres estados con el mejor rendimiento de entrega?\n",
    "5. ¿Identificas algún patrón geográfico en los retrasos de entrega? ¿Son estos patrones consistentes con el tiempo?\n",
    "6. ¿Qué iniciativas propones para mejorar los tiempos de entrega y el rendimiento? Clasifica estas iniciativas según la prioridad que les darías para su implementación y justifica."
   ]
  },
  {
   "cell_type": "code",
   "execution_count": 3,
   "metadata": {},
   "outputs": [],
   "source": [
    "import pandas as pd\n",
    "import Funciones "
   ]
  },
  {
   "cell_type": "code",
   "execution_count": 11,
   "metadata": {},
   "outputs": [],
   "source": [
    "order = pd.read_excel('bc_orders_dataset_modif.xlsx')\n",
    "customer = pd.read_excel('bc_customers_dataset_modif.xlsx')"
   ]
  },
  {
   "cell_type": "code",
   "execution_count": 17,
   "metadata": {},
   "outputs": [
    {
     "data": {
      "text/html": [
       "<div>\n",
       "<style scoped>\n",
       "    .dataframe tbody tr th:only-of-type {\n",
       "        vertical-align: middle;\n",
       "    }\n",
       "\n",
       "    .dataframe tbody tr th {\n",
       "        vertical-align: top;\n",
       "    }\n",
       "\n",
       "    .dataframe thead th {\n",
       "        text-align: right;\n",
       "    }\n",
       "</style>\n",
       "<table border=\"1\" class=\"dataframe\">\n",
       "  <thead>\n",
       "    <tr style=\"text-align: right;\">\n",
       "      <th></th>\n",
       "      <th>order_id</th>\n",
       "      <th>customer_id</th>\n",
       "      <th>order_status</th>\n",
       "      <th>order_approved_at</th>\n",
       "      <th>order_received_by_local_operator_date</th>\n",
       "      <th>order_delivered_to_customer_date</th>\n",
       "      <th>order_delivery_promise_date</th>\n",
       "    </tr>\n",
       "  </thead>\n",
       "  <tbody>\n",
       "    <tr>\n",
       "      <th>0</th>\n",
       "      <td>e481f51cbdc54678b7cc49136f2d6af7</td>\n",
       "      <td>9ef432eb6251297304e76186b10a928d</td>\n",
       "      <td>delivered</td>\n",
       "      <td>2017-10-02 11:07:15</td>\n",
       "      <td>2017-10-04 19:55:00</td>\n",
       "      <td>2017-10-10 21:25:13</td>\n",
       "      <td>2017-10-18</td>\n",
       "    </tr>\n",
       "    <tr>\n",
       "      <th>1</th>\n",
       "      <td>53cdb2fc8bc7dce0b6741e2150273451</td>\n",
       "      <td>b0830fb4747a6c6d20dea0b8c802d7ef</td>\n",
       "      <td>delivered</td>\n",
       "      <td>2018-07-26 03:24:27</td>\n",
       "      <td>2018-07-26 14:31:00</td>\n",
       "      <td>2018-08-07 15:27:45</td>\n",
       "      <td>2018-08-13</td>\n",
       "    </tr>\n",
       "    <tr>\n",
       "      <th>2</th>\n",
       "      <td>47770eb9100c2d0c44946d9cf07ec65d</td>\n",
       "      <td>41ce2a54c0b03bf3443c3d931a367089</td>\n",
       "      <td>delivered</td>\n",
       "      <td>2018-08-08 08:55:23</td>\n",
       "      <td>2018-08-08 13:50:00</td>\n",
       "      <td>2018-08-17 18:06:29</td>\n",
       "      <td>2018-09-04</td>\n",
       "    </tr>\n",
       "    <tr>\n",
       "      <th>3</th>\n",
       "      <td>949d5b44dbf5de918fe9c16f97b45f8a</td>\n",
       "      <td>f88197465ea7920adcdbec7375364d82</td>\n",
       "      <td>delivered</td>\n",
       "      <td>2017-11-18 19:45:59</td>\n",
       "      <td>2017-11-22 13:39:59</td>\n",
       "      <td>2017-12-02 00:28:42</td>\n",
       "      <td>2017-12-15</td>\n",
       "    </tr>\n",
       "    <tr>\n",
       "      <th>4</th>\n",
       "      <td>ad21c59c0840e6cb83a9ceb5573f8159</td>\n",
       "      <td>8ab97904e6daea8866dbdbc4fb7aad2c</td>\n",
       "      <td>delivered</td>\n",
       "      <td>2018-02-13 22:20:29</td>\n",
       "      <td>2018-02-14 19:46:34</td>\n",
       "      <td>2018-02-16 18:17:02</td>\n",
       "      <td>2018-02-26</td>\n",
       "    </tr>\n",
       "  </tbody>\n",
       "</table>\n",
       "</div>"
      ],
      "text/plain": [
       "                           order_id                       customer_id  \\\n",
       "0  e481f51cbdc54678b7cc49136f2d6af7  9ef432eb6251297304e76186b10a928d   \n",
       "1  53cdb2fc8bc7dce0b6741e2150273451  b0830fb4747a6c6d20dea0b8c802d7ef   \n",
       "2  47770eb9100c2d0c44946d9cf07ec65d  41ce2a54c0b03bf3443c3d931a367089   \n",
       "3  949d5b44dbf5de918fe9c16f97b45f8a  f88197465ea7920adcdbec7375364d82   \n",
       "4  ad21c59c0840e6cb83a9ceb5573f8159  8ab97904e6daea8866dbdbc4fb7aad2c   \n",
       "\n",
       "  order_status   order_approved_at order_received_by_local_operator_date  \\\n",
       "0    delivered 2017-10-02 11:07:15                   2017-10-04 19:55:00   \n",
       "1    delivered 2018-07-26 03:24:27                   2018-07-26 14:31:00   \n",
       "2    delivered 2018-08-08 08:55:23                   2018-08-08 13:50:00   \n",
       "3    delivered 2017-11-18 19:45:59                   2017-11-22 13:39:59   \n",
       "4    delivered 2018-02-13 22:20:29                   2018-02-14 19:46:34   \n",
       "\n",
       "  order_delivered_to_customer_date order_delivery_promise_date  \n",
       "0              2017-10-10 21:25:13                  2017-10-18  \n",
       "1              2018-08-07 15:27:45                  2018-08-13  \n",
       "2              2018-08-17 18:06:29                  2018-09-04  \n",
       "3              2017-12-02 00:28:42                  2017-12-15  \n",
       "4              2018-02-16 18:17:02                  2018-02-26  "
      ]
     },
     "execution_count": 17,
     "metadata": {},
     "output_type": "execute_result"
    }
   ],
   "source": [
    "order.head()"
   ]
  },
  {
   "cell_type": "code",
   "execution_count": 25,
   "metadata": {},
   "outputs": [
    {
     "data": {
      "text/plain": [
       "11.642968215463084"
      ]
     },
     "execution_count": 25,
     "metadata": {},
     "output_type": "execute_result"
    }
   ],
   "source": [
    "df_promedio = pd.DataFrame({ 'fecha_entrega': order['order_delivered_to_customer_date'],\n",
    "'fecha_aprobacion': order['order_approved_at'] })\n",
    "\n",
    "df_promedio['duracion'] = df_promedio['fecha_entrega'] - df_promedio['fecha_aprobacion']\n",
    "\n",
    "df_promedio['duracion'] = df_promedio['duracion'].dt.days\n",
    "\n",
    "df_promedio = df_promedio.dropna(subset=['duracion']) #Se quitan los valores negativos dado que no se le puede cambiar el tipo de dato a la columna si posee valores negativos.\n",
    "\n",
    "df_promedio['duracion'] = df_promedio['duracion'].astype(int)\n",
    "\n",
    "df_promedio['duracion'].mean()\n"
   ]
  },
  {
   "cell_type": "code",
   "execution_count": null,
   "metadata": {},
   "outputs": [],
   "source": []
  }
 ],
 "metadata": {
  "kernelspec": {
   "display_name": "Python 3",
   "language": "python",
   "name": "python3"
  },
  "language_info": {
   "codemirror_mode": {
    "name": "ipython",
    "version": 3
   },
   "file_extension": ".py",
   "mimetype": "text/x-python",
   "name": "python",
   "nbconvert_exporter": "python",
   "pygments_lexer": "ipython3",
   "version": "3.11.4"
  }
 },
 "nbformat": 4,
 "nbformat_minor": 2
}
